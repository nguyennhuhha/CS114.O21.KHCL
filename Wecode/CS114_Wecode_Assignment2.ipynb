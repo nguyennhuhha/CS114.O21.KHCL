{
 "cells": [
  {
   "cell_type": "markdown",
   "id": "6dfb4637",
   "metadata": {},
   "source": [
    "## Bài đối xứng dọc:\n",
    "Viết hàm đảo mảng 2 chiều thành mảng đối xứng của nó theo trục ngang\n",
    "#### INPUT\n",
    "Dòng đầu tiên chứa hai số r và c là số dòng và số cột của mảng, mỗi số không quá 1000.\n",
    "r dòng tiếp theo, mỗi dòng chứa c số nguyên. Đây là các phần tử trong mảng 2 chiều\n",
    "#### OUTPUT\n",
    "Mảng sau khi đảo"
   ]
  },
  {
   "cell_type": "code",
   "execution_count": 2,
   "id": "4718a80f",
   "metadata": {},
   "outputs": [
    {
     "name": "stdout",
     "output_type": "stream",
     "text": [
      "5 5\n",
      "28913 26846 85 19649 8524\n",
      "7970 31692 11666 2213 6747\n",
      "22640 18740 30793 9860 15977\n",
      "24997 18366 18071 8766 20104\n",
      "18223 27172 2671 101 2170\n",
      "18223 27172 2671 101 2170\n",
      "24997 18366 18071 8766 20104\n",
      "22640 18740 30793 9860 15977\n",
      "7970 31692 11666 2213 6747\n",
      "28913 26846 85 19649 8524\n"
     ]
    }
   ],
   "source": [
    "def reverse_array(arr): #đảo ngược chuỗi\n",
    "    return arr[::-1]\n",
    "\n",
    "r, c = map(int, input().split())\n",
    "matrix = []\n",
    "for _ in range(r):\n",
    "    row = list(map(int, input().split()))\n",
    "    matrix.append(row)\n",
    "\n",
    "reversed_matrix = reverse_array(matrix)\n",
    "\n",
    "for row in reversed_matrix: \n",
    "    print(*row) #unpack list xuất ra theo từng dòng"
   ]
  },
  {
   "cell_type": "markdown",
   "id": "f7ea6fda",
   "metadata": {},
   "source": [
    "## Bài Mảng xém đối xứng\n",
    "Cho một mảng xém đối xứng. Hỏi nếu ta có thể tùy ý thay đổi một số nào đó trong mảng thì ta có thể biến mảng này thành mảng đối xứng hay không\n",
    "#### INPUT\n",
    "Dòng đầu tiên chứa số n (n < 1000000). Đây là số lượng phần tử trong mảng.  \n",
    "n dòng tiếp theo, mỗi dòng là một số nguyên dương có giá trị không quá một tỷ.\n",
    "#### OUTPUT\n",
    "xuất ra chữ TRUE nếu có thể biến mảng thành đối xứng. Ngược lại xuất chứ FALSE."
   ]
  },
  {
   "cell_type": "code",
   "execution_count": 22,
   "id": "14b49ece",
   "metadata": {},
   "outputs": [
    {
     "name": "stdout",
     "output_type": "stream",
     "text": [
      "8\n",
      "1\n",
      "2\n",
      "3\n",
      "4\n",
      "5\n",
      "6\n",
      "FALSE\n"
     ]
    }
   ],
   "source": [
    "def xem_doixung(n):\n",
    "    n2 =n//2\n",
    "    count=0\n",
    "    if n%2==0:\n",
    "        for i in range(n):\n",
    "            arr.append(int(input()))\n",
    "            if i >= n2 and arr[i]!= arr[n-i-1]:\n",
    "                count +=1\n",
    "                if count >=2:\n",
    "                    return False\n",
    "    else:\n",
    "        for i in range(n):\n",
    "            arr.append(int(input()))\n",
    "            if i>n2 and arr[i]!= arr[n-i-1]:\n",
    "                count +=1\n",
    "                if count >=2:\n",
    "                    return False\n",
    "    return True\n",
    "\n",
    "n = int(input())\n",
    "arr=[]\n",
    "\n",
    "\n",
    "print(\"TRUE\" if xem_doixung(n) else \"FALSE\")"
   ]
  },
  {
   "cell_type": "markdown",
   "id": "7a4d4773",
   "metadata": {},
   "source": [
    "## Bài: Căn lề phải\n",
    "Bình đang làm bài tập mảng 2 chiều nâng rất rất cao. Bình cần xuất mảng ra màn hình để quan sát. Tuy nhiên do các số nguyên trong mảng độ dài khác nhau nên khi xuất ra nhìn rất lộn xộn, không biết được số nào ở cột nào. Bạn hãy viết giúp Bình hàm xuất mảng một cách ngay ngắn.\n",
    "#### INPUT\n",
    "Dòng đầu tiên chứa hai số r và c là số dòng và số cột của mảng, mỗi số không quá 1000.  \n",
    "r dòng tiếp theo, mỗi dòng chứa c số nguyên. Đây là các phần tử trong mảng 2 chiều\n",
    "#### OUTPUT\n",
    "Mảng 2 chiều được canh lề phải ở các cột. Tức là chữ số cuối cùng của các cột được viết thẳng hàng với nhau. Các chỗ trống được lấp đầy bằng ký tự khoảng trắng  \n",
    "Lưu ý là đê đảm bảo chính xác ở cuối mỗi dòng của ma trận chỉ được xuất ký tự xuống dòng, không được xuất khoảng trắng thừa."
   ]
  },
  {
   "cell_type": "code",
   "execution_count": 7,
   "id": "ce809f37",
   "metadata": {},
   "outputs": [
    {
     "name": "stdout",
     "output_type": "stream",
     "text": [
      "3 3\n",
      "156 -5 5\n",
      "13 4846 2294\n",
      "26 4 \n",
      "156   -5    5\n",
      " 13 4846 2294\n",
      " 26    4\n"
     ]
    }
   ],
   "source": [
    "n, m = map(int, input().split()) \n",
    "arr = [] \n",
    "max_lengths = [0] * m  \n",
    "\n",
    "# Nhập mảng và cập nhật độ dài lớn nhất của mỗi cột\n",
    "for _ in range(n):\n",
    "    row = list(map(int, input().split()))  # Nhập mỗi hàng của mảng\n",
    "    arr.append(row)\n",
    "    for i, item in enumerate(row): # tìm độ dài lớn nhất của mỗi cột\n",
    "        max_lengths[i] = max(max_lengths[i], len(str(item)))\n",
    "\n",
    "# In mảng với căn lề phải\n",
    "for row in arr:\n",
    "    print(\" \".join(f\"{item:>{max_lengths[i]}}\" for i, item in enumerate(row)))"
   ]
  },
  {
   "cell_type": "markdown",
   "id": "52f2d31d",
   "metadata": {},
   "source": [
    "## Bài: Chu vi đường biên\n",
    "Sau bao năm trời code thuê cày mướn, cắc củm dành dụm Bình cũng thuê được nhà. Ngày đầu tiên về sơn lại nhà mới Bình lại làm rơi nguyên thùng sơn xuống sàn. Sơn chảy ra nền nhà thành một vũng to trải trên nhiều viên gạch, Bình lại ngứa nghề tự hỏi không biết ranh giới của vùng gạch bị dính sơn là bao nhiêu? Bạn hãy viết chương trình tính giúp bình, xem mỗi cạnh ô gạch có độ dài 1 đơn vị\n",
    "#### INPUT\n",
    "Dòng đầu tiên chứa hai số tự nhiên m và n là kích thước sàn nhà của Bình (đơn vị là ô gạch)  \n",
    "m dòng tiếp theo mỗi dòng chứa n số nguyên mang giá trị:  \n",
    "Số 0 đại diện cho ô gạch chưa dính sơn  \n",
    "Số 1 đại diện cho ô gạch đã bị dính sơn  \n",
    "#### OUTPUT\n",
    "Độ dài ranh giới"
   ]
  },
  {
   "cell_type": "code",
   "execution_count": 9,
   "id": "fdbc1541",
   "metadata": {},
   "outputs": [
    {
     "name": "stdout",
     "output_type": "stream",
     "text": [
      "3 3\n",
      "1 1 1\n",
      "1 0 1\n",
      "1 1 1\n",
      "16\n"
     ]
    }
   ],
   "source": [
    "def find_boundary(m, n, grid):\n",
    "    perimeter = 0\n",
    "\n",
    "    #Duyệt từng ô gạch\n",
    "    for i in range(m):\n",
    "        for j in range(n):\n",
    "            if grid[i][j] == 1:  #Nếu ô gạch dính sơn\n",
    "                #Kiểm tra xung quanh ô gạch\n",
    "                for dx, dy in [(0, 1), (0, -1), (1, 0), (-1, 0)]:\n",
    "                    x, y = i + dx, j + dy\n",
    "                    #Nếu ô bên cạnh không dính sơn hoặc nằm ngoài biên\n",
    "                    if x < 0 or x >= m or y < 0 or y >= n or grid[x][y] == 0:\n",
    "                        perimeter += 1  # ranh giới tăng\n",
    "\n",
    "    return perimeter\n",
    "\n",
    "m, n = map(int, input().split())\n",
    "grid = []\n",
    "for _ in range(m):\n",
    "    row = list(map(int, input().split()))\n",
    "    grid.append(row)\n",
    "\n",
    "print(find_boundary(m, n, grid))"
   ]
  },
  {
   "cell_type": "markdown",
   "id": "7dff36ff",
   "metadata": {},
   "source": [
    "## Bài 1: Dịch rìa\n",
    "Cho một mảng hai chiều các số nguyên. Hãy thực hiện dịch chuyển các phần tử ở rìa của mảng. Trong đó rìa thứ i sẽ dịch chuyển theo chiều kim đồng hồ nếu i là số chẵn và ngược chiều kim đồng hồ nếu i là số lẻ.  \n",
    "Rìa thứ i của mảng được định nghĩa như sau:  \n",
    "Rìa thứ 0 là hợp của dòng trên cùng, dòng cuối cùng, cột ngoài cùng bên trái và cột ngoài cùng bên phải.  \n",
    "Nếu ta xóa rìa thứ 0 của mảng ban đầu ta sẽ thu được một mảng mới. Rìa thứ 0 của mảng mới chính là rìa thứ 1 của mảng ban đầu.  \n",
    "Tương tự cho rìa thứ 2 và rìa thứ 3\n",
    "#### INPUT\n",
    "Dòng đầu tiên chứa hai số r và c là số dòng và số cột của mảng.  \n",
    "r dòng tiếp theo, mỗi dòng chứa c số nguyên. Đây là các phần tử trong mảng 2 chiều\n",
    "#### OUTPUT\n",
    "Mảng sau khi dịch chuyển tất cả các rìa"
   ]
  },
  {
   "cell_type": "code",
   "execution_count": 24,
   "id": "949f1789",
   "metadata": {},
   "outputs": [
    {
     "name": "stdout",
     "output_type": "stream",
     "text": [
      "5 4\n",
      "1 2 3 4\n",
      "5 6 7 8\n",
      "9 10 11 12\n",
      "13 14 15 16\n",
      "17 18 19 20\n",
      "5 1 2 3 \n",
      "9 7 11 4 \n",
      "13 6 15 8 \n",
      "17 10 14 12 \n",
      "18 19 20 16 \n"
     ]
    }
   ],
   "source": [
    "def border_shifting(matrix, depth):\n",
    "    t = []\n",
    "    if not any(matrix):\n",
    "        return matrix\n",
    "\n",
    "    first_row = matrix.pop(0) if any(matrix) else []\n",
    "    last_row = matrix.pop(-1) if any(matrix) else []\n",
    "    last_column = [row.pop(-1) for row in matrix] if any(matrix) else []\n",
    "    first_column = [row.pop(0) for row in matrix] if any(matrix) else []\n",
    "\n",
    "    matrix = border_shifting(matrix, depth+1)\n",
    "\n",
    "    if any(first_row):\n",
    "        t += first_row\n",
    "    if any(last_column):\n",
    "        t += last_column\n",
    "    if any(last_row):\n",
    "        t += last_row[::-1]\n",
    "    if any(first_column):\n",
    "        t += first_column[::-1]\n",
    "\n",
    "    if depth % 2 == 0:\n",
    "        t = [t.pop(-1)] + t\n",
    "    else:\n",
    "        t = t + [t.pop(0)]\n",
    "\n",
    "    c = max(len(first_row), len(last_row))\n",
    "    r = max(len(first_column), len(last_column))\n",
    "\n",
    "    first_row = t[:c]\n",
    "    t = t[c:]\n",
    "    last_column = t[:r]\n",
    "    t = t[r:]\n",
    "    last_row = t[:c]\n",
    "    last_row = last_row[::-1]\n",
    "    t = t[c:]\n",
    "    first_column = t[::-1]\n",
    "\n",
    "    for i in range(r):\n",
    "        if any(first_column):\n",
    "            matrix[i].insert(0, first_column[i])\n",
    "        if any(last_column):\n",
    "            matrix[i].insert(len(matrix[i]), last_column[i])\n",
    "    if any(first_row):\n",
    "        matrix.insert(0, first_row)\n",
    "    if any(last_row):\n",
    "        matrix.insert(len(matrix), last_row)\n",
    "    return matrix\n",
    "\n",
    "rows, columns = [int(num) for num in input().split()]\n",
    "\n",
    "#input matrix\n",
    "matrix = []\n",
    "for i in range(rows):\n",
    "    row = [int(num) for num in input().split()]\n",
    "    matrix.append(row)\n",
    "\n",
    "result_matrix = border_shifting(matrix,0)\n",
    "for row in result_matrix:\n",
    "    for val in row:\n",
    "        print(val, end=\" \")\n",
    "    print()"
   ]
  },
  {
   "cell_type": "markdown",
   "id": "0cb885bf",
   "metadata": {},
   "source": [
    "## Bài: Con đò\n",
    "Phà là một loại tàu lớn, có 2 đầu y như nhau, xe chạy lên ở một đầu và chạy xuống ở đầu kia. Mỗi đầu của phà tương ứng với một bờ của con sông, phà luôn luôn cập đầu bên phải và bờ bên phải và ngược lại, không bao giờ đổi đầu nhằm tối ưu thời gian chuyên chơn.  \n",
    "\n",
    "Trên con sông kia có một chiếc phà dài l mét hàng ngày chở khách qua sông. Bỗng một hôm phà bị hư phải nằm sửa ở tả ngạn con sông, xe đến không qua được sông xếp thành hàng dài hai bên bờ bấm kèn inh ỏi nhức óc đinh tai. Một sinh viên UIT bị kẹt trong hàng xe dài đằng đẵng kia quyết định giết thời gian bằng cách viết một chương trình tính toán số lần phà sẽ phải chạy để đưa hết hàng xe đang đợi qua sông khi nó hoạt động trở lại. Hãy giúp bạn ấy.\n",
    "#### Input\n",
    "Mỗi test bắt đầu bằng hai con số nguyên 1≤l≤500 and 1≤m≤10000. Trong dó l là chiều dài của phà (tính bằng mét) và m là số lượng xe đang kẹt hai bên bờ. m dòng tiếp theo, đại diên cho các xe đang chờ phà theo đúng thứ tự. Mỗi dòng chứa hai thông tin là lượt là chiều dài xe (tính bằng centimét và là một số nguyên dương không quá 100000) và vị trí của bờ mà xe đang đậu (biểu diễn bằng một trong hai giá trị (“left” hoặc “right”)\n",
    "#### Output\n",
    "Số lượt qua sông phà phải chạy để chở hết số xe trên"
   ]
  },
  {
   "cell_type": "code",
   "execution_count": 18,
   "id": "9e9944ad",
   "metadata": {},
   "outputs": [
    {
     "name": "stdout",
     "output_type": "stream",
     "text": [
      "15 4\n",
      "380 right\n",
      "720 right\n",
      "1340 right\n",
      "1040 right\n",
      "2\n"
     ]
    }
   ],
   "source": [
    "def Crossing(l,m,cars):\n",
    "    left = []\n",
    "    right = []\n",
    "    for car in cars:\n",
    "        if car[1] == \"left\":\n",
    "            left.append(car[0])\n",
    "        else:\n",
    "            right.append(car[0])\n",
    "    left_index = 0\n",
    "    right_index = 0\n",
    "    position = 0 #đánh dấu vị trí phà (0: trái, 1: phải)\n",
    "    trips = 0\n",
    "\n",
    "    while left_index + right_index < m:\n",
    "        space_left = l\n",
    "        if position == 0:\n",
    "            while left_index < len(left) and space_left>=left[left_index]:\n",
    "                space_left -= left[left_index]\n",
    "                left_index +=1\n",
    "        else:\n",
    "            while right_index < len(right) and space_left>= right[right_index]:\n",
    "                space_left -= right[right_index]\n",
    "                right_index += 1\n",
    "        position = 1 -position\n",
    "        trips+=1\n",
    "    return trips \n",
    "\n",
    "l, m = map(int, input().split())\n",
    "l*=100\n",
    "cars = []\n",
    "for _ in range(m):\n",
    "    length, bank = input().split()\n",
    "    cars.append((int(length), bank))\n",
    "\n",
    "print(Crossing(l, m, cars))\n"
   ]
  },
  {
   "cell_type": "markdown",
   "id": "92a45e9d",
   "metadata": {},
   "source": [
    "## Bài: Đếm sao\n",
    "Khoa học tiên tiến đã nảy sinh ra yêu cầu dùng máy tính để tự động phân tích ảnh chụp của các siêu viễn vọng kính nhằm phát hiện ra những vì tinh tú mới. Lý do cho nhu cầu này đơn giản là vì trên trời triệu triệu vì sao, đếm hoài đếm mải con người bó tay rồi, không đếm nổi.  \n",
    "Các bạn hãy viết một chương trình nhận vào ảnh chụp của viễn vọng kính, ảnh này đã được xử lý đưa về dạng đen trắng. Điểm ảnh màu đen biểu diễn bằng ký tự '#' và điểm ảnh màu trắng biểu diễn bằng ký tự '-'  \n",
    "Vùng màu đen trên ảnh là vũ trụ bao la rộng lớn còn vùng màu trắng chính là các ngôi sao. Một ngôi sao tùy kích thước to nhỏ có thể chiếm một điểm ảnh hoặc là nhiều điểm ảnh liền kê nhau theo đường ngang hoặc đường dọc (không tính đường chéo).\n",
    "#### Input\n",
    "Mỗi test case bắt đầu bằng một hàng chứa hai con số 1≤m,n≤100. Sau đó là m hàng, mỗi hàng chứa n điểm ảnh\n",
    "#### Output\n",
    "Ứng với mỗi test case, xuất ra số ngôi sao có trên ảnh theo ví dụ sau:"
   ]
  },
  {
   "cell_type": "code",
   "execution_count": 20,
   "id": "3a0cedce",
   "metadata": {},
   "outputs": [
    {
     "name": "stdout",
     "output_type": "stream",
     "text": [
      "3 3\n",
      "###\n",
      "###\n",
      "###\n",
      "Case 1: 0\n",
      "\n"
     ]
    },
    {
     "ename": "ValueError",
     "evalue": "not enough values to unpack (expected 2, got 0)",
     "output_type": "error",
     "traceback": [
      "\u001b[1;31m---------------------------------------------------------------------------\u001b[0m",
      "\u001b[1;31mValueError\u001b[0m                                Traceback (most recent call last)",
      "\u001b[1;32m~\\AppData\\Local\\Temp\\ipykernel_24760\\3344465167.py\u001b[0m in \u001b[0;36m<module>\u001b[1;34m\u001b[0m\n\u001b[0;32m     27\u001b[0m \u001b[1;33m\u001b[0m\u001b[0m\n\u001b[0;32m     28\u001b[0m \u001b[1;31m# Example usage:\u001b[0m\u001b[1;33m\u001b[0m\u001b[1;33m\u001b[0m\u001b[0m\n\u001b[1;32m---> 29\u001b[1;33m \u001b[0mcount_stars\u001b[0m\u001b[1;33m(\u001b[0m\u001b[1;33m)\u001b[0m\u001b[1;33m\u001b[0m\u001b[1;33m\u001b[0m\u001b[0m\n\u001b[0m",
      "\u001b[1;32m~\\AppData\\Local\\Temp\\ipykernel_24760\\3344465167.py\u001b[0m in \u001b[0;36mcount_stars\u001b[1;34m()\u001b[0m\n\u001b[0;32m      3\u001b[0m     \u001b[1;32mwhile\u001b[0m \u001b[1;32mTrue\u001b[0m\u001b[1;33m:\u001b[0m\u001b[1;33m\u001b[0m\u001b[1;33m\u001b[0m\u001b[0m\n\u001b[0;32m      4\u001b[0m         \u001b[1;32mtry\u001b[0m\u001b[1;33m:\u001b[0m\u001b[1;33m\u001b[0m\u001b[1;33m\u001b[0m\u001b[0m\n\u001b[1;32m----> 5\u001b[1;33m             \u001b[0mm\u001b[0m\u001b[1;33m,\u001b[0m \u001b[0mn\u001b[0m \u001b[1;33m=\u001b[0m \u001b[0mmap\u001b[0m\u001b[1;33m(\u001b[0m\u001b[0mint\u001b[0m\u001b[1;33m,\u001b[0m \u001b[0minput\u001b[0m\u001b[1;33m(\u001b[0m\u001b[1;33m)\u001b[0m\u001b[1;33m.\u001b[0m\u001b[0msplit\u001b[0m\u001b[1;33m(\u001b[0m\u001b[1;33m)\u001b[0m\u001b[1;33m)\u001b[0m\u001b[1;33m\u001b[0m\u001b[1;33m\u001b[0m\u001b[0m\n\u001b[0m\u001b[0;32m      6\u001b[0m             \u001b[0mimage\u001b[0m \u001b[1;33m=\u001b[0m \u001b[1;33m[\u001b[0m\u001b[0mlist\u001b[0m\u001b[1;33m(\u001b[0m\u001b[0minput\u001b[0m\u001b[1;33m(\u001b[0m\u001b[1;33m)\u001b[0m\u001b[1;33m.\u001b[0m\u001b[0mstrip\u001b[0m\u001b[1;33m(\u001b[0m\u001b[1;33m)\u001b[0m\u001b[1;33m)\u001b[0m \u001b[1;32mfor\u001b[0m \u001b[0m_\u001b[0m \u001b[1;32min\u001b[0m \u001b[0mrange\u001b[0m\u001b[1;33m(\u001b[0m\u001b[0mm\u001b[0m\u001b[1;33m)\u001b[0m\u001b[1;33m]\u001b[0m\u001b[1;33m\u001b[0m\u001b[1;33m\u001b[0m\u001b[0m\n\u001b[0;32m      7\u001b[0m \u001b[1;33m\u001b[0m\u001b[0m\n",
      "\u001b[1;31mValueError\u001b[0m: not enough values to unpack (expected 2, got 0)"
     ]
    }
   ],
   "source": [
    "def count_stars():\n",
    "    case_num = 1\n",
    "    while True:\n",
    "        try:\n",
    "            m, n = map(int, input().split())\n",
    "            image = [list(input().strip()) for _ in range(m)]\n",
    "\n",
    "            def dfs(i, j):\n",
    "                if i < 0 or i >= m or j < 0 or j >= n or image[i][j] != '-':\n",
    "                    return\n",
    "                image[i][j] = '#'  # Mark visited\n",
    "                dfs(i + 1, j)  # Check down\n",
    "                dfs(i - 1, j)  # Check up\n",
    "                dfs(i, j + 1)  # Check right\n",
    "                dfs(i, j - 1)  # Check left\n",
    "\n",
    "            num_stars = 0\n",
    "            for i in range(m):\n",
    "                for j in range(n):\n",
    "                    if image[i][j] == '-':\n",
    "                        num_stars += 1\n",
    "                        dfs(i, j)\n",
    "            print(\"Case {}: {}\".format(case_num, num_stars))\n",
    "            case_num += 1\n",
    "        except EOFError:\n",
    "            break\n",
    "\n",
    "# Example usage:\n",
    "count_stars()"
   ]
  },
  {
   "cell_type": "markdown",
   "id": "614e6104",
   "metadata": {},
   "source": [
    "## Bài: make array consecutive again\n",
    "Cho một mảng trong đó mỗi số chỉ xuất hiện 1 lần, đếm xem cần phải chèn vào mảng ít nhất bao nhiêu phần tử để mảng chứa tất cả số nguyên trên một đoạn liên tục.\n",
    "#### INPUT\n",
    "Dòng đầu tiên chứa số n (n < 100000), là số lượng phần tử của mảng.  \n",
    "n dòng tiếp theo, mỗi dòng chứa một số nguyên, đây là các phần tử của mảng.\n",
    "#### OUTPUT\n",
    "Số phần tử tối thiểu cần thêm vào mảng để mảng chứa toàn bộ số tự nhiên liên tiếp và không chứa bất cứ số nào khác."
   ]
  },
  {
   "cell_type": "code",
   "execution_count": 21,
   "id": "e1816718",
   "metadata": {},
   "outputs": [
    {
     "name": "stdout",
     "output_type": "stream",
     "text": [
      "4\n",
      "6\n",
      "2\n",
      "3\n",
      "8\n",
      "3\n"
     ]
    }
   ],
   "source": [
    "def make_array_consecutive(arr):\n",
    "    arr.sort()  # Sắp xếp mảng\n",
    "    count = 0\n",
    "    for i in range(1, len(arr)):\n",
    "        # Đếm số lượng phần tử cần thêm vào giữa các phần tử liên tiếp\n",
    "        count += arr[i] - arr[i-1] - 1\n",
    "    return count\n",
    "\n",
    "n = int(input())\n",
    "arr = [int(input()) for _ in range(n)]\n",
    "\n",
    "print(make_array_consecutive(arr))"
   ]
  },
  {
   "cell_type": "markdown",
   "id": "da34fe2d",
   "metadata": {},
   "source": [
    "## Bài: Count right turns in a list of points\n",
    "Some senior students under Dr. Thành supervision are working on self-driving autonomous robots. The movement system of the robots those students are working is very limited, the robot only understands one of the following movement command:move backward or forward for a fixed, small distance. They can turn either left or right but at exactly 90 degree. To move such robots to the desired destination, the navigation system is very important. The robot would use its camera to map its surrounding into a grid with the every point with integer coordinate in the grid represent a point the robot could reach after certain number of movement commands. The point that is obstructed by terrain will be marked as impassable. The navigation system will the plot a course for the robot as an array of point it has to go through to reach desired destination.  \n",
    "Dr. Thành is reviewing the navigation system his senior students has just finished and right away, he can tell that something is off. The system seem to make more right turn than it should have. But as a renown computer scientists, Dr. Thành cannot draw a conclusion just based on intuition, he needs concrete data, even for just a small task like reviewing student’s work. So he writes a small program to count the number of right turn the navigation is asking the robot to make. The code of his program is given below, but he’s too busy and the code is not finished. It’s your turn to finish his code.\n",
    "#### INPUT\n",
    "The first line is the number of points n (2 <= n <= 10000) the navigation system was telling the robots to go through\n",
    "The next n lines are the coordinate (x, y) of n points respectively (x and y are space-separated)\n",
    "#### OUTPUT\n",
    "The nubmer of rights turns the robot would have to make."
   ]
  },
  {
   "cell_type": "code",
   "execution_count": 3,
   "id": "b2e1acb0",
   "metadata": {},
   "outputs": [
    {
     "name": "stdout",
     "output_type": "stream",
     "text": [
      "7\n",
      "0 0\n",
      "1\n"
     ]
    },
    {
     "ename": "ValueError",
     "evalue": "not enough values to unpack (expected 2, got 1)",
     "output_type": "error",
     "traceback": [
      "\u001b[1;31m---------------------------------------------------------------------------\u001b[0m",
      "\u001b[1;31mValueError\u001b[0m                                Traceback (most recent call last)",
      "\u001b[1;32m~\\AppData\\Local\\Temp\\ipykernel_16148\\2911893470.py\u001b[0m in \u001b[0;36m<module>\u001b[1;34m\u001b[0m\n\u001b[0;32m     19\u001b[0m \u001b[0mpoints\u001b[0m \u001b[1;33m=\u001b[0m \u001b[1;33m[\u001b[0m\u001b[1;33m]\u001b[0m\u001b[1;33m\u001b[0m\u001b[1;33m\u001b[0m\u001b[0m\n\u001b[0;32m     20\u001b[0m \u001b[1;32mfor\u001b[0m \u001b[0m_\u001b[0m \u001b[1;32min\u001b[0m \u001b[0mrange\u001b[0m\u001b[1;33m(\u001b[0m\u001b[0mn\u001b[0m\u001b[1;33m)\u001b[0m\u001b[1;33m:\u001b[0m\u001b[1;33m\u001b[0m\u001b[1;33m\u001b[0m\u001b[0m\n\u001b[1;32m---> 21\u001b[1;33m     \u001b[0mx\u001b[0m\u001b[1;33m,\u001b[0m \u001b[0my\u001b[0m \u001b[1;33m=\u001b[0m \u001b[0mmap\u001b[0m\u001b[1;33m(\u001b[0m\u001b[0mint\u001b[0m\u001b[1;33m,\u001b[0m \u001b[0minput\u001b[0m\u001b[1;33m(\u001b[0m\u001b[1;33m)\u001b[0m\u001b[1;33m.\u001b[0m\u001b[0msplit\u001b[0m\u001b[1;33m(\u001b[0m\u001b[1;33m)\u001b[0m\u001b[1;33m)\u001b[0m\u001b[1;33m\u001b[0m\u001b[1;33m\u001b[0m\u001b[0m\n\u001b[0m\u001b[0;32m     22\u001b[0m     \u001b[0mpoints\u001b[0m\u001b[1;33m.\u001b[0m\u001b[0mappend\u001b[0m\u001b[1;33m(\u001b[0m\u001b[1;33m(\u001b[0m\u001b[0mx\u001b[0m\u001b[1;33m,\u001b[0m \u001b[0my\u001b[0m\u001b[1;33m)\u001b[0m\u001b[1;33m)\u001b[0m\u001b[1;33m\u001b[0m\u001b[1;33m\u001b[0m\u001b[0m\n\u001b[0;32m     23\u001b[0m \u001b[1;33m\u001b[0m\u001b[0m\n",
      "\u001b[1;31mValueError\u001b[0m: not enough values to unpack (expected 2, got 1)"
     ]
    }
   ],
   "source": [
    "def count_right_turns(n, points):\n",
    "    count = 0\n",
    "    for i in range(1, n - 1):\n",
    "        x1, y1 = points[i - 1]\n",
    "        x2, y2 = points[i]\n",
    "        x3, y3 = points[i + 1]\n",
    "\n",
    "        cross_product = (x2 - x1) * (y3 - y2) - (y2 - y1) * (x3 - x2)\n",
    "\n",
    "        if cross_product < 0:\n",
    "            count += 1\n",
    "\n",
    "    return count\n",
    "\n",
    "# Nhập số điểm\n",
    "n = int(input().strip())\n",
    "\n",
    "# Nhập tọa độ các điểm\n",
    "points = []\n",
    "for _ in range(n):\n",
    "    x, y = map(int, input().split())\n",
    "    points.append((x, y))\n",
    "\n",
    "print(count_right_turns(n, points))"
   ]
  },
  {
   "cell_type": "markdown",
   "id": "aec9f6f4",
   "metadata": {},
   "source": [
    "## Bài bristle back quill spray\n",
    "Bristleback là một hero vô cùng khó chịu trong dota với bộ skill cộng hưởng tốt và vô cùng khó giết. Một trong những skill gây sát thương chủ lực của bristleback là Quills spray. Chiêu này bắn các gai nhọn trên lưng bristleback ra xung quanh khiến các hero địch không thể tránh né được. Tuy chỉ gây một lượng sát thương ban đầu không lớn chiêu này sẽ để lại gai nhọn cắm trên người hero địch. Ở lần cast chiêu tiếp theo các gai nhọn được cắm sẵn này sẽ gây thêm một lượng sát thương nữa. Các gai nhọn này tồn tại độc lập với nhau, không có cách nào gỡ ra và chỉ có thể chờ chúng tự mất đi sau một thời gian nhất định.  \n",
    "Cho biết các thời điểm một hero bị dính skill qullspray của bristleback. Hãy cho biết tổng lượng sát thương mà heroes đó đã nhận.  \n",
    "GHI CHÚ: Trường hợp hero dính đòn quillspary ngay đúng thời điểm một gai nhọn mất đi thì hero vẫn nhận lượng sát thương cộng thêm rồi gai nhọn mới mất. Để có kết quả chính xác các số thực cần được lưu bằng kiểu double \n",
    "#### INPUT\n",
    "Dòng đầu tiên chứa số n (n < 10000), đây là số lần hero dính skill quillspray.  \n",
    "Dòng tiếp theo chứa n số thực, đây là các thời điểm hero dính skill quillspray, xếp theo đúng thứ tự thời gian  \n",
    "Dòng tiếp theo chứa số x, đây là lượng sát thương cơ bản của một lần qullspray  \n",
    "Dòng tiếp theo chứa só y, đây là lượng sát thương tăng thêm mà mỗi gai nhọn đang dính trên người hero sẽ gây ra khi bị dính skill quillspray.  \n",
    "Dòng cuối cùng chứa số z. Đây là thời gian cần thiết để một gai nhọn mất đi sau khi nó được cắm trên người.\n",
    "#### OUTPUT\n",
    "Tổng lượng sát thương"
   ]
  },
  {
   "cell_type": "code",
   "execution_count": 11,
   "id": "70544b1c",
   "metadata": {},
   "outputs": [
    {
     "name": "stdout",
     "output_type": "stream",
     "text": [
      "5\n",
      "4.9 12.6 19.1 22.9 46.2\n",
      "65\n",
      "51\n",
      "15\n",
      "580\n"
     ]
    }
   ],
   "source": [
    "def total_damage(n, times, base_damage, additional_damage, duration):\n",
    "    total_damage = 0\n",
    "    overtime=[]\n",
    "    for i in range(0,n):\n",
    "        overtime.append(times[i])\n",
    "        total_damage += base_damage \n",
    "#         print(total_damage)\n",
    "        while (overtime[(0)] + duration < times[i]):\n",
    "            overtime.pop(0)\n",
    "        total_damage += (len(overtime)-1) * additional_damage\n",
    "#         print(total_damage)\n",
    "    return int(total_damage)\n",
    "\n",
    "# Nhập dữ liệu\n",
    "n = int(input())\n",
    "times = list(map(float, input().split()))\n",
    "base_damage = float(input())\n",
    "additional_damage = float(input())\n",
    "duration = float(input())\n",
    "\n",
    "print(total_damage(n, times, base_damage, additional_damage, duration))"
   ]
  },
  {
   "cell_type": "code",
   "execution_count": null,
   "id": "0964fb35",
   "metadata": {},
   "outputs": [],
   "source": [
    "def total_damage(n, times, base_damage, additional_damage, duration):\n",
    "    total_damage = 0\n",
    "    total_damage += base_damage*n\n",
    "    \n",
    "    spikes_count = 1\n",
    "    last_time = times[0]\n",
    "    last_spike_pos=0\n",
    "    for i in range(1,n):\n",
    "        interval = times[i] - last_time\n",
    "        for j in range(last_spike_pos,i):\n",
    "            if times[i]-times[j]>=duration and spikes_count>0:\n",
    "                spikes_count-=1\n",
    "                last_spike_pos = j+1\n",
    "#                 print(last_spike_pos)\n",
    "            else:\n",
    "                break\n",
    "#         print(spikes_count)\n",
    "        total_damage += base_damage + (spikes_count * additional_damage)\n",
    "#         print(total_damage)\n",
    "        if interval >= duration:            \n",
    "            spikes_count = 0\n",
    "        else:\n",
    "            spikes_count += 1 \n",
    "        last_time = times[i]\n",
    "        \n",
    "    return int(total_damage)\n",
    "\n",
    "# Nhập dữ liệu\n",
    "n = int(input())\n",
    "times = list(map(float, input().split()))\n",
    "base_damage = float(input())\n",
    "additional_damage = float(input())\n",
    "duration = float(input())\n",
    "\n",
    "print(total_damage(n, times, base_damage, additional_damage, duration))"
   ]
  }
 ],
 "metadata": {
  "kernelspec": {
   "display_name": "Python 3 (ipykernel)",
   "language": "python",
   "name": "python3"
  },
  "language_info": {
   "codemirror_mode": {
    "name": "ipython",
    "version": 3
   },
   "file_extension": ".py",
   "mimetype": "text/x-python",
   "name": "python",
   "nbconvert_exporter": "python",
   "pygments_lexer": "ipython3",
   "version": "3.11.6"
  }
 },
 "nbformat": 4,
 "nbformat_minor": 5
}
