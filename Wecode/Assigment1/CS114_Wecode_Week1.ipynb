{
 "cells": [
  {
   "cell_type": "markdown",
   "id": "6bab2a26",
   "metadata": {},
   "source": [
    "## Bài: Đảo chuỗi:\n",
    "Bình có một chuỗi a và Bình có thể thực hiện nhiều lần thao tác sau lên chuỗi a: \"Chọn một chuỗi con bất kỳ có độ dài lẻ trong a và đảo ngược chuỗi con này\"  \n",
    "Hỏi sau nhiều lần thao tác đó Bình có thể biến chuỗi a thành chuỗi B không?\n",
    "#### INPUT\n",
    "Dòng đầu tiên chứa số t đây là số test case\n",
    "2*t dòng tiếp theo sẽ là các cặp chuỗi a, b\n",
    "#### OUTPUT\n",
    "Ứng vỡi mỗi cặp chuỗi a, b xuất ra trên 1 dòng chữ \"YES\" hoặc \"NO\" theo yêu cầu"
   ]
  },
  {
   "cell_type": "markdown",
   "id": "8dc57f8f",
   "metadata": {},
   "source": [
    "https://oj.vnoi.info/problem/icpc23_regional_f"
   ]
  },
  {
   "cell_type": "code",
   "execution_count": 2,
   "id": "d264c64d",
   "metadata": {},
   "outputs": [
    {
     "name": "stdout",
     "output_type": "stream",
     "text": [
      "3\n",
      "hanoi\n",
      "ionah\n",
      "aw\n",
      "oa\n",
      "hue\n",
      "hue\n",
      "YES\n",
      "NO\n",
      "YES\n"
     ]
    }
   ],
   "source": [
    "t = int(input())\n",
    "result = []\n",
    "for i in range(t):\n",
    "    str_1 = input()\n",
    "    str_2 = input()\n",
    "    \n",
    "    if len(str_1) % 2==0:\n",
    "        result.append('NO')\n",
    "        continue\n",
    "    \n",
    "    str_temp = str_1[::-1]\n",
    "\n",
    "    if str_temp == str_2 or str_1==str_2:\n",
    "        result.append('YES')\n",
    "    else:\n",
    "        result.append('NO')\n",
    "        \n",
    "for i in range(len(result)):\n",
    "    print(result[i])"
   ]
  },
  {
   "cell_type": "code",
   "execution_count": 1,
   "id": "ee7f5aba",
   "metadata": {},
   "outputs": [
    {
     "name": "stdout",
     "output_type": "stream",
     "text": [
      "Nhập chuỗi a: hjhaneb\n",
      "Nhập chuỗi b: nah\n",
      "NO\n"
     ]
    }
   ],
   "source": [
    "def is_palindrome_substring(sub):\n",
    "    \"\"\"\n",
    "    Kiểm tra xem một chuỗi có phải là palindrome hay không.\n",
    "    \"\"\"\n",
    "    return sub == sub[::-1]\n",
    "\n",
    "def check_palindromic_substrings(a, b):\n",
    "    \"\"\"\n",
    "    Kiểm tra xem các chuỗi con lẻ trong chuỗi a khi đảo ngược có giống với chuỗi b không.\n",
    "    \"\"\"\n",
    "    n = len(a)\n",
    "    m = len(b)\n",
    "    \n",
    "    for i in range(n):\n",
    "        for j in range(i + 1, n + 1):\n",
    "            if (j - i) % 2 == 1:  # Kiểm tra nếu độ dài của chuỗi con là lẻ\n",
    "                sub = a[i:j]\n",
    "                if is_palindrome_substring(sub):\n",
    "                    if sub[::-1] == b:\n",
    "                        return True\n",
    "    return False\n",
    "\n",
    "# Nhập chuỗi a và b\n",
    "a = input(\"Nhập chuỗi a: \")\n",
    "b = input(\"Nhập chuỗi b: \")\n",
    "\n",
    "# Kiểm tra và in kết quả\n",
    "if check_palindromic_substrings(a, b):\n",
    "    print(\"YES\")\n",
    "else:\n",
    "    print(\"NO\")"
   ]
  },
  {
   "cell_type": "code",
   "execution_count": 16,
   "id": "85449a34",
   "metadata": {},
   "outputs": [
    {
     "name": "stdout",
     "output_type": "stream",
     "text": [
      "2\n",
      "euh\n",
      "hue\n",
      "hue\n",
      "hue\n",
      "YES\n",
      "YES\n"
     ]
    }
   ],
   "source": [
    "def is_odd_length_substring_equal(a, b):\n",
    "    if (a == b) and (len(b) % 2 != 0): # Kiểm tra chuỗi a bằng b và có độ dài lẻ không\n",
    "        return \"YES\"\n",
    "    else:\n",
    "        for i in range(len(a)):\n",
    "            for j in range(i + 1, len(a) + 1):\n",
    "                substring = a[i:j]\n",
    "                if len(substring) % 2 != 0:  # Kiểm tra chuỗi con có độ dài lẻ\n",
    "                    if substring[::-1] == b:  # Đảo ngược chuỗi con và so sánh với chuỗi b\n",
    "                        return \"YES\"\n",
    "        return \"NO\"\n",
    "\n",
    "# Nhập số lượng testcase, khởi tạo list result\n",
    "t = int(input())\n",
    "result = []\n",
    "\n",
    "for i in range(t):\n",
    "    A = input()\n",
    "    B = input()\n",
    "    # Gọi hàm kiểm tra \n",
    "    result.append(is_odd_length_substring_equal(A, B))\n",
    "\n",
    "for i in range(len(result)):\n",
    "    print(result[i])"
   ]
  },
  {
   "cell_type": "code",
   "execution_count": 20,
   "id": "d5bcdf36",
   "metadata": {},
   "outputs": [
    {
     "name": "stdout",
     "output_type": "stream",
     "text": [
      "3\n",
      "hanoi\n",
      "ionah\n"
     ]
    }
   ],
   "source": [
    "n = int(input())\n",
    "result = []\n",
    "\n",
    "for k in range(n):\n",
    "    s = input()\n",
    "    t = input()\n",
    "    flag = False\n",
    "\n",
    "    for i in s:\n",
    "        if flag == False:\n",
    "            for j in t:\n",
    "                if i == j:\n",
    "                    flag = True\n",
    "    else:\n",
    "        break\n",
    "\n",
    "    if flag:\n",
    "        result.append('YES')\n",
    "    else:\n",
    "        result.append('NO')\n",
    "\n",
    "for i in result:\n",
    "    print(i)"
   ]
  },
  {
   "cell_type": "code",
   "execution_count": 3,
   "id": "83d6929c",
   "metadata": {},
   "outputs": [
    {
     "name": "stdout",
     "output_type": "stream",
     "text": [
      "3\n",
      "hanoi\n",
      "ionah\n",
      "YES\n",
      "ao\n",
      "ow\n",
      "YES\n",
      "hue\n",
      "hue\n",
      "YES\n"
     ]
    }
   ],
   "source": [
    "def can_transform(a, b):\n",
    "    if len(a) != len(b):\n",
    "        return False\n",
    "    diff_count = 0\n",
    "    for char_a, char_b in zip(a, b):\n",
    "        if char_a != char_b:\n",
    "            diff_count += 1\n",
    "    return diff_count % 2 == 0\n",
    "\n",
    "def has_odd_length_substring(s):\n",
    "    return any(len(sub) % 2 == 1 for sub in [s[i:j] for i in range(len(s)) for j in range(i + 1, len(s) + 1)])\n",
    "\n",
    "def is_possible(a, b):\n",
    "    if a == b:\n",
    "        return True\n",
    "    return can_transform(a, b) and has_odd_length_substring(a)\n",
    "\n",
    "t = int(input())\n",
    "for _ in range(t):\n",
    "    a = input().strip()\n",
    "    b = input().strip()\n",
    "    if is_possible(a, b):\n",
    "        print(\"YES\")\n",
    "    else:\n",
    "        print(\"NO\")\n"
   ]
  },
  {
   "cell_type": "code",
   "execution_count": null,
   "id": "4530e825",
   "metadata": {},
   "outputs": [],
   "source": [
    "def is_odd_length_substring_equal(a, b):\n",
    "    if len(a) == 0:\n",
    "        return \"NO\"\n",
    "    elif len(a) % 2 != 0 and a[::-1] == b:\n",
    "        return \"YES\"\n",
    "    else:\n",
    "        return is_odd_length_substring_equal(a[1:], b) or is_odd_length_substring_equal(a[:-1], b)\n",
    "\n",
    "# Nhập chuỗi a và b\n",
    "a = input(\"Nhập chuỗi a: \")\n",
    "b = input(\"Nhập chuỗi b: \")\n",
    "\n",
    "# Gọi hàm kiểm tra và in kết quả\n",
    "result = is_odd_length_substring_equal(a, b)\n",
    "print(result)"
   ]
  },
  {
   "cell_type": "code",
   "execution_count": 3,
   "id": "891a0f29",
   "metadata": {},
   "outputs": [
    {
     "name": "stdout",
     "output_type": "stream",
     "text": [
      "Yes\n",
      "Yes\n"
     ]
    }
   ],
   "source": [
    "def can_transform_string(A, B):\n",
    "    # Kiểm tra độ dài của chuỗi A và B\n",
    "    if len(A) != len(B):\n",
    "        return \"No\"\n",
    "    \n",
    "    # Tạo một danh sách chứa các cặp kí tự của chuỗi A và B\n",
    "    pairs = [(A[i], B[i]) for i in range(len(A))]\n",
    "    \n",
    "    # Tạo danh sách các index của các cặp kí tự không trùng nhau\n",
    "    diff_indices = [i for i in range(len(pairs)) if pairs[i][0] != pairs[i][1]]\n",
    "    \n",
    "    # Kiểm tra nếu số lượng cặp kí tự khác nhau không chia hết cho 2\n",
    "    if len(diff_indices) % 2 != 0:\n",
    "        return \"No\"\n",
    "    \n",
    "    # Kiểm tra xem các kí tự ở vị trí khác nhau có thể hoán đổi được hay không\n",
    "    for i in range(0, len(diff_indices), 2):\n",
    "        idx1 = diff_indices[i]\n",
    "        idx2 = diff_indices[i+1]\n",
    "        if pairs[idx1][0] != pairs[idx2][1] or pairs[idx1][1] != pairs[idx2][0]:\n",
    "            return \"No\"\n",
    "    \n",
    "    return \"Yes\"\n",
    "\n",
    "# Ví dụ sử dụng hàm\n",
    "A1 = \"hue\"\n",
    "B1 = \"hue\"\n",
    "print(can_transform_string(A1, B1))  # Output: Yes\n",
    "\n",
    "A2 = \"hey\"\n",
    "B2 = \"hye\"\n",
    "print(can_transform_string(A2, B2))  # Output: No\n"
   ]
  },
  {
   "cell_type": "code",
   "execution_count": null,
   "id": "2c0ea7e0",
   "metadata": {},
   "outputs": [],
   "source": [
    "!echo 325| python tablet.py"
   ]
  },
  {
   "cell_type": "code",
   "execution_count": null,
   "id": "11e1e7e1",
   "metadata": {},
   "outputs": [],
   "source": [
    "!echo 325| time python tablet.py"
   ]
  },
  {
   "cell_type": "code",
   "execution_count": null,
   "id": "06edbf4b",
   "metadata": {},
   "outputs": [],
   "source": []
  },
  {
   "cell_type": "markdown",
   "id": "e7567135",
   "metadata": {},
   "source": [
    "## Bài Lotto\n",
    "An đang tham gia một trò chơi do hội trại của trường tổ chức, được gọi là \"Lô Tô 3x3\". Trò chơi này khá giống với trò chơi lô tô truyền thống, nhưng có một vài thay đổi trong cách chơi và cấu trúc phiếu chơi.\n",
    "Mỗi người chơi nhận một phiếu chơi có dạng hình vuông 3x3, với mỗi ô tại hàng i từ trên xuống và cột j từ trái sang phải chứa số Ai,j. Những con số này nằm trong khoảng từ 1 đến 100 và không có hai ô nào trong phiếu có số giống nhau.\n",
    "Sau đó, người dẫn quản trò sẽ lấy ngẫu nhiên trong một hộp kín ra lần lượt các N phiếu có chứa số \n",
    "b1,b2,…,bN. Nếu phiếu lô tô chứa một số trong những số được lấy lên từ hộp, người chơi sẽ đánh dấu chúng trên phiếu của mình. Người chơi đầu tiên có một hàng, cột hoặc đường chéo của ba số đã đánh dấu trên phiếu sẽ là người chiến thắng và nhận được một phần quà rất giá trị.  \n",
    "Nhiệm vụ của bạn là giúp An xác định rằng cậu ấy có thể nhận được phần quà từ trò chơi này sau N lần lấy phiếu hay không?\n",
    "##### Input:\n",
    "Trong 3 dòng đầu tiên, dòng chứ i chứa ba số nguyên Ai,1;Ai,2;Ai,3.\n",
    "Dòng thứ 4 chứa số nguyên N (1≤N≤10) là số lấy phiếu trong hộp kín.\n",
    "N dòng tiếp theo mỗi dòng là một số nguyên bi là số trên phiếu ở lần lấy thứ i.\n",
    "##### Output:\n",
    "Nếu An đạt được giải thưởng thì in ra ‘Yes’, ngược lại in ra ‘No’."
   ]
  },
  {
   "cell_type": "code",
   "execution_count": 26,
   "id": "94447574",
   "metadata": {},
   "outputs": [
    {
     "name": "stdout",
     "output_type": "stream",
     "text": [
      "1 2 9\n",
      "6 8 3\n",
      "11 15 48\n",
      "3\n",
      "9\n",
      "8\n",
      "11\n",
      "Yes\n"
     ]
    }
   ],
   "source": [
    "#Used chatgpt to condense the line of code to check bingo conditions\n",
    "#Ask gpt: Use python, code in line to check if values on the same row or \n",
    "#column or main diagonal of a 3*3 matrix have the same value = 1\n",
    "def check_bingo(ticket):\n",
    "    # Check rows and columns\n",
    "    for i in range(3):\n",
    "        if all(ticket[i][j] == 1 for j in range(3)) or all(ticket[j][i] == 1 for j in range(3)):\n",
    "            return True\n",
    "    # Check the diagonal\n",
    "    if all(ticket[i][i] == 1 for i in range(3)) or all(ticket[i][2 - i] == 1 for i in range(3)):\n",
    "        return True\n",
    "    return False\n",
    "\n",
    "# Input the loto ticket\n",
    "ticket = []\n",
    "for _ in range(3):\n",
    "    row = list(map(int, input().split()))\n",
    "    ticket.append(row)\n",
    "\n",
    "# Input the set of bingo numbers\n",
    "N = int(input())\n",
    "bingo_numbers = set()\n",
    "for _ in range(N):\n",
    "    number = int(input())\n",
    "    bingo_numbers.add(number)\n",
    "\n",
    "# Check the conditions and print result\n",
    "for number in bingo_numbers:\n",
    "    for i in range(3):\n",
    "        for j in range(3):\n",
    "            if ticket[i][j] == number:\n",
    "                ticket[i][j] = 1\n",
    "\n",
    "    if check_bingo(ticket):\n",
    "        print(\"Yes\")\n",
    "        break\n",
    "else:\n",
    "    print(\"No\")"
   ]
  },
  {
   "cell_type": "markdown",
   "id": "7dd97858",
   "metadata": {},
   "source": [
    "## Bài: Tablet\n",
    "Bạn Bình đi mua tablet. Bình là người rất cầu toàn, Bình muốn cả chiều dài, chiều  rộng của tablet phải là số nguyên. Giả sử Bình muốn kích thước của tablet cũng phải là một số nguyên n thì có bao nhiêu lựa chọn kích thước màn hình tablet Bình có thể cân nhắc?\n",
    "#### INPUT\n",
    "Một số nguyên dương n\n",
    "#### OUTPUT\n",
    "Số lượng lựa chọn có thể có của Bình"
   ]
  },
  {
   "cell_type": "code",
   "execution_count": 4,
   "id": "831bd510",
   "metadata": {},
   "outputs": [
    {
     "name": "stdout",
     "output_type": "stream",
     "text": [
      "325\n",
      "7\n",
      "Wall time: 2.33 s\n"
     ]
    }
   ],
   "source": [
    "%%time \n",
    "#không tham khảo\n",
    "def number_of_options(n):\n",
    "    count = 0\n",
    "    n2 = n**2\n",
    "    min_length = int(n/2**0.5)\n",
    "    for l in range(min_length, n):\n",
    "        w_squared = n2 - l**2  # calculate the squared width\n",
    "        w = w_squared ** 0.5  # calculate the width\n",
    "        if w.is_integer():  # Check if the width is integer\n",
    "            count += 1\n",
    "    return count \n",
    "\n",
    "n = int(input())\n",
    "print(number_of_options(n))"
   ]
  },
  {
   "cell_type": "code",
   "execution_count": null,
   "id": "c931f06d",
   "metadata": {},
   "outputs": [],
   "source": [
    "dd"
   ]
  },
  {
   "cell_type": "markdown",
   "id": "bd9fe035",
   "metadata": {},
   "source": [
    "## Bài trạm ga\n",
    "Trong một quốc gia nhỏ có tên là XYZ, có bốn thành phố lớn. Những thành phố này được bố trí trên bản đồ theo cấu trúc một lưới 2x2, mỗi thành phố nằm ở một ô riêng. Thông qua hệ thống đường sắt, mỗi thành phố có thể kết nối với nhau. Mỗi thành phố, nếu được xây dựng trạm ga sẽ được đánh dấu trên bản đồ là ký tự \"#\", còn thành phố không có trạm ga thì sẽ được đánh dấu là ký tự là  \".\".  \n",
    "Quốc gia nhỏ XYZ có tài chính còn eo hẹp nên chỉ xây dựng các tuyến đường sắt giữa hai thành phố có trạm ga và hai thành phố này phải kề nhau (chung cạnh trên bản đồ) . Hai thành phố có trạm ga nhưng không kề nhau thì có thể di chuyển qua lại bằng cách di chuyển thông qua những thành phố trung gian khác.   \n",
    "Chính phủ XYZ đã xây dựng một số trạm ga ở trong một số thành phố (có ít nhất 2 thành phố có trạm ga), nhưng không biết là hai thành phố có trạm ga khác nhau có thể di chuyển qua lại với nhau được hay không.  \n",
    "Bạn hãy viết chương trình để kiểm tra thử xem là các thành phố có trạm ga có thể di chuyển qua lại được không nhé!\n",
    "#### Input: \n",
    "Dòng thứ nhất, gồm 2 ký tự biểu diễn có trạm ga hay không ở hai thành phố góc trên bên trái và góc trên bên phải.\n",
    "Dòng thứ hai, gồm 2 ký tự biểu diễn có trạm ga hay không ở hai thành phố góc dưới bên trái và góc dưới bên phải. \n",
    "#### Output:\n",
    "In ra “Yes” nếu các thành phố có trạm ga có thể di chuyển qa lại được. Ngược lại, in ra “No”."
   ]
  },
  {
   "cell_type": "code",
   "execution_count": 68,
   "id": "dd5c16c7",
   "metadata": {},
   "outputs": [
    {
     "name": "stdout",
     "output_type": "stream",
     "text": [
      "##\n",
      "..\n",
      "Yes\n"
     ]
    }
   ],
   "source": [
    "def is_connected(city_map):\n",
    "    # Kiểm tra các thành phố có trạm ga, lưu tọa độ của các thành phố đó\n",
    "    stations = []\n",
    "    for i in range(2):\n",
    "        for j in range(2):\n",
    "            if city_map[i][j] == '#':\n",
    "                stations.append((i, j))\n",
    "    \n",
    "    # Nếu không có ít nhất 2 trạm ga, trả về False\n",
    "    if len(stations) < 2:\n",
    "        return False\n",
    "    \n",
    "    # Kiểm tra thành phố có kề nhau không\n",
    "    for station1 in stations:\n",
    "        for station2 in stations:\n",
    "            # Nếu có cặp trạm ga kề nhau theo chiều ngang hoặc dọc\n",
    "            if abs(station1[0] - station2[0]) + abs(station1[1] - station2[1]) == 1:\n",
    "                return True\n",
    "    return False\n",
    "\n",
    "city_map = []\n",
    "for i in range(2):\n",
    "    city_map.append(input())\n",
    "\n",
    "if is_connected(city_map):\n",
    "    print(\"Yes\")\n",
    "else:\n",
    "    print(\"No\")"
   ]
  },
  {
   "cell_type": "markdown",
   "id": "f8d95ca3",
   "metadata": {},
   "source": [
    "## Bài: Tìm hình vuông khi biết 2 đỉnh\n",
    "Cho hai điểm A, B trong hệ tọa độ Đề-các. Hỏi có những hình vuông nào nhận AB là một cạnh của mình?\n",
    "#### INPUT\n",
    "Hàng đầu là tọa độ của điểm A, cách nhau bởi khoảng trắng\n",
    "Hàng cuôi cùng là tọa độ của điểm B\n",
    "#### OUTPUT\n",
    "Xuất tọa độ các hình vuông. Mỗi hình trên một hàng, tọa độ các đỉnh trong hình vuông được xuất theo chiều kim đồng hồ với điểm A dược xuất đầu tiên."
   ]
  },
  {
   "cell_type": "code",
   "execution_count": 10,
   "id": "85edceed",
   "metadata": {},
   "outputs": [
    {
     "name": "stdout",
     "output_type": "stream",
     "text": [
      "2 4\n",
      "3 4\n",
      "(2, 4) (2, 5) (3, 5) (3, 4)\n",
      "(2, 4) (3, 4) (3, 3) (2, 3)\n"
     ]
    }
   ],
   "source": [
    "def find_coo(A,B):\n",
    "    # Tìm tọa độ còn lại của hình vuông (công thức được tham khảo trên chatgpt)\n",
    "    # url chatgpt: https://chat.openai.com/share/19cbef21-4c2f-4104-a7cc-8805b5e23488\n",
    "    # Điểm còn lại (x3, y3) sẽ là điểm (x2 - (y2 - y1), y2 + (x2 - x1))\n",
    "    # và điểm (x4, y4) sẽ là điểm (x1 - (y2 - y1), y1 + (x2 - x1))\n",
    "    x1, y1 = A\n",
    "    x2, y2 = B\n",
    "    x3 = x2 - (y2 - y1)\n",
    "    y3 = y2 + (x2 - x1)\n",
    "    x4 = x1 - (y2 - y1)\n",
    "    y4 = y1 + (x2 - x1)\n",
    "    return (x3, y3), (x4, y4)\n",
    "\n",
    "def find_all(A,B):\n",
    "    possible_squares = []\n",
    "    C,D = find_coo(A,B)\n",
    "    possible_squares.append([A,D,C,B])\n",
    "    D,C = find_coo(B,A)\n",
    "    possible_squares.append([A,B,C,D])\n",
    "    return possible_squares\n",
    "\n",
    "# Nhập tọa độ của hai điểm\n",
    "A = tuple(map(int, input().split()))\n",
    "B = tuple(map(int, input().split()))\n",
    "\n",
    "# Tìm tất cả các trường hợp có thể có\n",
    "results = find_all(A,B)\n",
    "for i in results:\n",
    "    print(i[0],i[1],i[2],i[3])"
   ]
  },
  {
   "cell_type": "markdown",
   "id": "31f02686",
   "metadata": {},
   "source": [
    "## Bài: Tô màu"
   ]
  },
  {
   "cell_type": "code",
   "execution_count": 2,
   "id": "6acb17f4",
   "metadata": {},
   "outputs": [
    {
     "name": "stdout",
     "output_type": "stream",
     "text": [
      "2 3 2\n",
      "..#\n",
      "###\n",
      "0\n"
     ]
    }
   ],
   "source": [
    "def count_ways(H, W, K, grid):\n",
    "    def count_black_cells(grid):\n",
    "        count = 0\n",
    "        for row in grid:\n",
    "            count += row.count('#')\n",
    "        return count\n",
    "\n",
    "    def backtrack(row, col, selected_rows, selected_cols):\n",
    "        nonlocal result\n",
    "        if row == H:\n",
    "            if count_black_cells(grid) == K:\n",
    "                result += 1\n",
    "            return\n",
    "\n",
    "        # Đặt ô này thành đỏ và đi đến hàng tiếp theo\n",
    "        new_selected_rows = selected_rows | {row}\n",
    "        backtrack(row + 1, col, new_selected_rows, selected_cols)\n",
    "\n",
    "        # Đặt ô này thành đen và đi đến hàng tiếp theo\n",
    "        new_selected_cols = selected_cols | {col}\n",
    "        backtrack(row + 1, col, selected_rows, new_selected_cols)\n",
    "\n",
    "        # Đi đến cột tiếp theo\n",
    "        if col + 1 < W:\n",
    "            backtrack(row, col + 1, selected_rows, selected_cols)\n",
    "\n",
    "    result = 0\n",
    "    backtrack(0, 0, set(), set())\n",
    "    return result\n",
    "\n",
    "# Đọc input\n",
    "H, W, K = map(int, input().split())\n",
    "grid = [input() for _ in range(H)]\n",
    "\n",
    "# Tính và in ra kết quả\n",
    "print(count_ways(H, W, K, grid))"
   ]
  },
  {
   "cell_type": "code",
   "execution_count": null,
   "id": "6afe9a80",
   "metadata": {},
   "outputs": [],
   "source": []
  },
  {
   "cell_type": "code",
   "execution_count": null,
   "id": "ae948329",
   "metadata": {},
   "outputs": [],
   "source": []
  }
 ],
 "metadata": {
  "kernelspec": {
   "display_name": "Python 3 (ipykernel)",
   "language": "python",
   "name": "python3"
  },
  "language_info": {
   "codemirror_mode": {
    "name": "ipython",
    "version": 3
   },
   "file_extension": ".py",
   "mimetype": "text/x-python",
   "name": "python",
   "nbconvert_exporter": "python",
   "pygments_lexer": "ipython3",
   "version": "3.9.13"
  }
 },
 "nbformat": 4,
 "nbformat_minor": 5
}
