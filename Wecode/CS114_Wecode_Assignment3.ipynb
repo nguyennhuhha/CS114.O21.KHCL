{
 "cells": [
  {
   "cell_type": "markdown",
   "id": "a898ecdb",
   "metadata": {},
   "source": [
    "## Bài count phần giao:\n",
    "Đối với các mạng xã hội, các trò chơi trực tuyến hay các dịch vụ mạng khác có hỗ trợ trao đổi thông tin theo thời gian thực như nhắn tin, gọi điện, v.v... Việc quản lý danh sách người dùng đang online là công việc thiết yếu. Khi có một user online, hệ thống sẽ phải cho user này biết có ai trong số bạn bè của anh ấy cũng đang online. Các bạn hãy viết chương trình cho biết số friend đang online của user X.\n",
    "#### INPUT\n",
    "Hàng đầu tiên của input chứ m, n (0 < m,n < 10.000). Trong đó m là số lượng người đang online của toàn hệ thống, n là số lượng friend của người dùng đang xét.  \n",
    "Hàng tiếp theo chứa m con số nguyên dương, mỗi số giá trị không quá 1 tỷ và cách nhau bởi khoảng trắng. Đây là các mã số của những người dùng đang online, m số nguyên dương này được xếp theo thứ tự tăng dần và không có mã số nào trùng nhau.  \n",
    "Hàng tiếp theo chứa n con số nguyên dương, mỗi số giá trị không quá 1 tỷ và cách nhau bởi khoảng trắng. Đây là các mã số của bạn bè của user X.\n",
    "#### OUTPUT\n",
    "Xuất ra trên một dòng số lượng bạn của X đang online"
   ]
  },
  {
   "cell_type": "code",
   "execution_count": 13,
   "id": "1d068157",
   "metadata": {},
   "outputs": [
    {
     "name": "stdout",
     "output_type": "stream",
     "text": [
      "78 32\n",
      "3 4 6 9 12 15 16 19 20 21 23 26 27 29 31 34 35 36 39 40 42 43 46 49 52 54 55 56 58 59 62 64 65 67 69 70 72 74 75 77 79 82 83 85 87 90 93 96 99 102 105 107 110 113 115 117 119 122 124 125 128 131 134 137 138 139 140 142 145 147 148 149 150 152 153 156 157 160\n",
      "3 59 16 78 67 56 44 13 11 81 74 15 0 34 47 62 72 26 29 19 52 22 86 51 91 84 65 75 2 7 38 42\n",
      "Số lượng phần giao: 17\n"
     ]
    }
   ],
   "source": [
    "def count_intersect(arr1, arr2):\n",
    "    count = 0\n",
    "    for num in arr1:\n",
    "        if num in arr2:\n",
    "            count += 1\n",
    "    return count\n",
    "\n",
    "# Nhập số lượng phần tử của 2 mảng\n",
    "m, n = map(int, input().split())\n",
    "\n",
    "# Nhập mảng A\n",
    "arr1 = list(map(int, input().split()))\n",
    "arr2 = list(map(int, input().split()))\n",
    "# Gọi hàm và đồng thời nhập mảng B và in kết quả\n",
    "print(\"Số lượng phần giao:\", count_intersect(arr1, arr2))"
   ]
  },
  {
   "cell_type": "markdown",
   "id": "387348e5",
   "metadata": {},
   "source": [
    "## Bài Lower bound\n",
    "Viết chương trình tìm kiếm một số trong mảng tăng dần với yêu cầu như sau:\n",
    "#### INPUT\n",
    "Dòng đầu tiên chứa số n (không quá một triệu), là số phần tử trong mảng  \n",
    "Dòng thứ hai chứ n số nguyên dương (không quá một tỷ), cách nhau bởi khoảng trắng, đây là các phần tử của mảng  \n",
    "Dòng thứ ba chưa số m (không quá một triệu), đây là số lượng số cần phải tìm.  \n",
    "Dòng cuối cùng của input chứa m số nguyên dương x1, x2, ..., xm, giá trị mỗi số không quá một tỷ. Đây là các số cần tìm.\n",
    "#### OUPUT\n",
    "Ứng với mỗi số cần tìm, xuất ra trên một dòng vị trí của số đó trong mảng. Quy ước số đầu tiên của mảng có vị trí là 0 và nếu số cần tìm không có trong mảng xuất ra -1. Nếu số cần tìm xuất hiện ở nhiều vị trí trong mảng, xuất ra vị trí ở gần phía đầu mảng nhất"
   ]
  },
  {
   "cell_type": "code",
   "execution_count": 15,
   "id": "599d97ea",
   "metadata": {},
   "outputs": [
    {
     "name": "stdout",
     "output_type": "stream",
     "text": [
      "94\n",
      "0 3 3 3 6 7 8 8 8 9 12 15 17 18 18 18 21 24 27 28 29 32 32 33 36 38 39 41 41 41 43 44 44 46 47 49 52 52 52 52 52 55 58 58 58 59 60 63 66 67 70 70 73 74 77 77 80 81 84 87 89 91 91 92 94 97 100 100 100 101 102 102 105 107 107 108 109 109 109 109 110 110 113 115 115 115 118 118 119 120 120 121 121 121\n",
      "78\n",
      "120 130 2 61 104 8 104 34 119 66 26 108 56 56 82 40 78 112 52 36 56 86 96 90 54 85 68 100 138 132 64 134 86 0 106 108 104 8 60 15 70 60 130 89 0 62 88 40 50 46 139 87 2 69 54 96 79 94 118 76 102 104 2 68 12 140 47 98 134 136 56 120 0 65 40 136 36 42\n",
      "89\n",
      "-1\n",
      "-1\n",
      "-1\n",
      "-1\n",
      "6\n",
      "-1\n",
      "-1\n",
      "88\n",
      "48\n",
      "-1\n",
      "75\n",
      "-1\n",
      "-1\n",
      "-1\n",
      "-1\n",
      "-1\n",
      "-1\n",
      "36\n",
      "24\n",
      "-1\n",
      "-1\n",
      "-1\n",
      "-1\n",
      "-1\n",
      "-1\n",
      "-1\n",
      "66\n",
      "-1\n",
      "-1\n",
      "-1\n",
      "-1\n",
      "-1\n",
      "0\n",
      "-1\n",
      "75\n",
      "-1\n",
      "6\n",
      "46\n",
      "11\n",
      "50\n",
      "46\n",
      "-1\n",
      "60\n",
      "0\n",
      "-1\n",
      "-1\n",
      "-1\n",
      "-1\n",
      "33\n",
      "-1\n",
      "59\n",
      "-1\n",
      "-1\n",
      "-1\n",
      "-1\n",
      "-1\n",
      "64\n",
      "86\n",
      "-1\n",
      "70\n",
      "-1\n",
      "-1\n",
      "-1\n",
      "10\n",
      "-1\n",
      "34\n",
      "-1\n",
      "-1\n",
      "-1\n",
      "-1\n",
      "89\n",
      "0\n",
      "-1\n",
      "-1\n",
      "-1\n",
      "24\n",
      "-1\n"
     ]
    }
   ],
   "source": [
    "def binary_search(arr, x):\n",
    "    left, right = 0, len(arr) - 1\n",
    "    result = -1\n",
    "    \n",
    "    while left <= right:\n",
    "        mid = (left + right) // 2\n",
    "        if arr[mid] == x:\n",
    "            result = mid\n",
    "            right = mid - 1\n",
    "        elif arr[mid] < x:\n",
    "            left = mid + 1\n",
    "        else:\n",
    "            right = mid - 1\n",
    "    \n",
    "    return result\n",
    "\n",
    "def find_positions(arr, targets):\n",
    "    positions = []\n",
    "    for target in targets:\n",
    "        position = binary_search(arr, target)\n",
    "        positions.append(position)\n",
    "    return positions\n",
    "\n",
    "n = int(input())\n",
    "arr = list(map(int, input().split()))\n",
    "m = int(input())\n",
    "targets = list(map(int, input().split()))\n",
    "\n",
    "positions = find_positions(arr, targets)\n",
    "for position in positions:\n",
    "    print(position)"
   ]
  },
  {
   "cell_type": "markdown",
   "id": "aa025525",
   "metadata": {},
   "source": [
    "## Bài tìm vị trí\n",
    "Viết chương trình tìm kiếm một số trong mảng tăng dần với yêu cầu như sau:\n",
    "#### INPUT\n",
    "Dòng đầu tiên chứa số n (không quá một triệu), là số phần tử trong mảng  \n",
    "Dòng thứ hai chứ n số nguyên dương (không quá một tỷ), cách nhau bởi khoảng trắng, đây là các phần tử của mảng  \n",
    "Dòng thứ ba chưa số m (không quá một triệu), đây là số lượng số cần phải tìm.  \n",
    "Dòng cuối cùng của input chứa m số nguyên dương x1, x2, ..., xm, giá trị mỗi số không quá một tỷ. Đây là các số cần tìm.\n",
    "#### OUPUT\n",
    "Ứng với mỗi số cần tìm, xuất ra trên một dòng vị trí của số đó trong mảng. Quy ước số đầu tiên của mảng có vị trí là 0 và nếu số cần tìm không có trong mảng xuất ra -1. Nếu số cần tìm xuất hiện ở nhiều vị trí trong mảng, xuất ra vị trí ở gần phía cuối mảng nhất. Lưu ý là trong mảng có thể có những số lặp đi lặp lại CỰC KỲ NHIỀU lần."
   ]
  },
  {
   "cell_type": "code",
   "execution_count": 1,
   "id": "61f1fbbb",
   "metadata": {},
   "outputs": [
    {
     "name": "stdin",
     "output_type": "stream",
     "text": [
      " 7\n",
      " 5 7 8 8 12 16 19\n",
      " 6\n",
      " 8 1 0 8 3 16\n"
     ]
    },
    {
     "name": "stdout",
     "output_type": "stream",
     "text": [
      "3\n",
      "-1\n",
      "-1\n",
      "3\n",
      "-1\n",
      "5\n"
     ]
    }
   ],
   "source": [
    "def binary_search(arr, target):\n",
    "    left, right = 0, len(arr) - 1\n",
    "    result = -1\n",
    "    while left <= right:\n",
    "        mid = left + (right - left) // 2\n",
    "        if arr[mid] == target:\n",
    "            result = mid\n",
    "            left = mid + 1\n",
    "        elif arr[mid] < target:\n",
    "            left = mid + 1\n",
    "        else:\n",
    "            right = mid - 1\n",
    "    return result\n",
    "\n",
    "n = int(input())\n",
    "arr = list(map(int, input().split()))\n",
    "m = int(input())\n",
    "targets = list(map(int, input().split()))\n",
    "\n",
    "for target in targets:\n",
    "    index = binary_search(arr, target)\n",
    "    if index == -1:\n",
    "        print(-1)\n",
    "    else:\n",
    "        print(index)\n"
   ]
  },
  {
   "cell_type": "markdown",
   "id": "35f7c3ca",
   "metadata": {},
   "source": [
    "## Bài k số gần nhất\n",
    "Cho mảng số nguyên A đã sắp xếp tăng dần, tìm trong mảng k số có giá trị gần với giá trị x nhất.\n",
    "#### INPUT\n",
    "Dòng đầu tiên cho biết số phần tử của mảng  \n",
    "Dòng thứ 2 là toàn bộ mảng liệt kê trên một hàng, các phần tử cách nhau bởi khoảng trắng  \n",
    "Dòng cuối cùng lần lượt là 02 số k và x\n",
    "#### OUTPUT\n",
    "k số có giá trị gần với x nhất trong mảng. Các số này được xuất theo thứ tự tăng dần (trong trường hợp mảng có nhiều số có cùng khoảng cách tới x, ưu tiên chọn số có giá trị nhỏ hơn)"
   ]
  },
  {
   "cell_type": "code",
   "execution_count": 6,
   "id": "26e7306d-d713-4402-bdda-abe95c1030e8",
   "metadata": {},
   "outputs": [
    {
     "name": "stdout",
     "output_type": "stream",
     "text": [
      "Overwriting my_script.py\n"
     ]
    }
   ],
   "source": [
    "%%writefile my_script.py\n",
    "import sys\n",
    "# Tìm vị trí đầu(bên trái) của dãy k phần tử gần x nhất\n",
    "def find_1st_k_using_BinarySearch(arr, x, k): \n",
    "    right = len(arr)- k #Dãy k phần tử ko được vượt quá phạm vi của mảng\n",
    "    left = 0\n",
    "    \n",
    "    while (left < right):\n",
    "        mid = left + (right-left)//2\n",
    "        \n",
    "        if x < arr[mid]: #Nếu x nhỏ hơn phần tử ở vị trí giữa, cập nhật mảng con [left,right]\n",
    "            right = mid\n",
    "        elif  x >= arr[mid + k]: #Nếu x lớn hơn phần tử [giữa+k], cập nhật mảng con\n",
    "            left = mid + 1\n",
    "        else: #Nếu x nằm giữa mảng [mid, mid+k]\n",
    "            rmidk = abs(x - arr[mid + k])\n",
    "            lmidk = abs(x - arr[mid])\n",
    "        \n",
    "            if lmidk <= rmidk:\n",
    "                right = mid\n",
    "            else:\n",
    "                left = mid+1\n",
    "    return left\n",
    "\n",
    "n = int(sys.stdin.readline().strip())\n",
    "arr = list(map(int, sys.stdin.readline().strip().split()))\n",
    "k, x = map(int, sys.stdin.readline().split())\n",
    "position = find_1st_k_using_BinarySearch(arr, x, k)\n",
    "for num in arr[position: position+k]:\n",
    "    print(num, end = \" \")"
   ]
  },
  {
   "cell_type": "markdown",
   "id": "ce8df6f1",
   "metadata": {},
   "source": [
    "# Bài tìm cặp (k,n) gần nhất \n",
    "Cho mảng số nguyên A đã sắp xếp tăng dần, tìm trong mảng k số có giá trị gần với giá trị x nhất.\n",
    "#### INPUT\n",
    "Dòng đầu tiên cho biết số phần tử của mảng  \n",
    "Dòng thứ 2 là toàn bộ mảng liệt kê trên một hàng, các phần tử cách nhau bởi khoảng trắng  \n",
    "Các dòng sau đó, mỗi dòng chứa 02 số k  và x , k≤n  \n",
    "Input kết thúc bằng một dòng trống không có nội dung.  \n",
    "#### OUTPUT\n",
    "Ứng với mỗi cặp số (k, x) xuất ra màn hình số lớn nhất và nhỏ nhất trong dãy k số có giá trị gần với x nhất. Nếu có nhiều hơn k số có cùng khoảng cách tới x, chọn k số nhỏ nhất"
   ]
  },
  {
   "cell_type": "code",
   "execution_count": 9,
   "id": "ec01f55f-57a1-4453-ab53-3bb107c8e480",
   "metadata": {},
   "outputs": [
    {
     "name": "stdout",
     "output_type": "stream",
     "text": [
      "Overwriting my_script2.py\n"
     ]
    }
   ],
   "source": [
    "%%writefile my_script2.py\n",
    "import sys\n",
    "# Tìm vị trí đầu(bên trái) của dãy k phần tử gần x nhất\n",
    "def find_1st_k_using_BinarySearch(arr, x, k): \n",
    "    right = len(arr)- k #Dãy k phần tử ko được vượt quá phạm vi của mảng\n",
    "    left = 0\n",
    "    \n",
    "    while (left < right):\n",
    "        mid = left + (right-left)//2\n",
    "        \n",
    "        if x < arr[mid]: #Nếu x nhỏ hơn phần tử ở vị trí giữa, cập nhật mảng con [left,right]\n",
    "            right = mid\n",
    "        elif  x >= arr[mid + k]: #Nếu x lớn hơn phần tử [giữa+k], cập nhật mảng con\n",
    "            left = mid + 1\n",
    "        else: #Nếu x nằm giữa mảng [mid, mid+k]\n",
    "            rmidk = abs(x - arr[mid + k])\n",
    "            lmidk = abs(x - arr[mid])\n",
    "        \n",
    "            if lmidk <= rmidk:\n",
    "                right = mid\n",
    "            else:\n",
    "                left = mid+1\n",
    "    return left\n",
    "\n",
    "n = int(sys.stdin.readline().strip())\n",
    "arr = list(map(int, sys.stdin.readline().strip().split()))\n",
    "# Đọc các cặp số k, x và tìm giá trị gần nhất cho mỗi cặp\n",
    "while True:\n",
    "    try:\n",
    "        k, x = map(int, sys.stdin.readline().strip().split())\n",
    "        position = find_1st_k_using_BinarySearch(arr, x, k)\n",
    "        print(arr[position], arr[position + k - 1])\n",
    "    except ValueError:\n",
    "        break"
   ]
  }
 ],
 "metadata": {
  "kernelspec": {
   "display_name": "Python 3 (ipykernel)",
   "language": "python",
   "name": "python3"
  },
  "language_info": {
   "codemirror_mode": {
    "name": "ipython",
    "version": 3
   },
   "file_extension": ".py",
   "mimetype": "text/x-python",
   "name": "python",
   "nbconvert_exporter": "python",
   "pygments_lexer": "ipython3",
   "version": "3.11.6"
  }
 },
 "nbformat": 4,
 "nbformat_minor": 5
}
