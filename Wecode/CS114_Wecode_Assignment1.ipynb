{
 "cells": [
  {
   "cell_type": "markdown",
   "id": "6bab2a26",
   "metadata": {},
   "source": [
    "## Bài: Đảo chuỗi:\n",
    "Bình có một chuỗi a và Bình có thể thực hiện nhiều lần thao tác sau lên chuỗi a: \"Chọn một chuỗi con bất kỳ có độ dài lẻ trong a và đảo ngược chuỗi con này\"  \n",
    "Hỏi sau nhiều lần thao tác đó Bình có thể biến chuỗi a thành chuỗi B không?\n",
    "#### INPUT\n",
    "Dòng đầu tiên chứa số t đây là số test case\n",
    "2*t dòng tiếp theo sẽ là các cặp chuỗi a, b\n",
    "#### OUTPUT\n",
    "Ứng vỡi mỗi cặp chuỗi a, b xuất ra trên 1 dòng chữ \"YES\" hoặc \"NO\" theo yêu cầu"
   ]
  },
  {
   "cell_type": "code",
   "execution_count": 9,
   "id": "06edbf4b",
   "metadata": {},
   "outputs": [
    {
     "name": "stdout",
     "output_type": "stream",
     "text": [
      "1\n",
      "hue\n",
      "hue\n",
      "YES\n"
     ]
    }
   ],
   "source": [
    "def reverse_odd_sstr(s):\n",
    "    even_chars = sorted(s[0::2]) #sắp xếp các ký tự ở vị trí chẵn\n",
    "    odd_chars = sorted(s[1::2]) #sắp xếp các ký tự ở vị trí lẻ\n",
    "    # trả về list các ký tự đã sắp\n",
    "    return even_chars + odd_chars\n",
    "\n",
    "n = int(input())\n",
    "for _ in range(n):\n",
    "    a = input()\n",
    "    b = input()\n",
    "    \n",
    "    # đảo và sắp xếp cho cả hai chuỗi a và b để kiểm tra có thể đảo được chuỗi a bằng chuỗi b không\n",
    "    print(\"YES\" if reverse_odd_sstr(a) == reverse_odd_sstr(b) else \"NO\")"
   ]
  },
  {
   "cell_type": "markdown",
   "id": "e7567135",
   "metadata": {},
   "source": [
    "## Bài Lotto\n",
    "An đang tham gia một trò chơi do hội trại của trường tổ chức, được gọi là \"Lô Tô 3x3\". Trò chơi này khá giống với trò chơi lô tô truyền thống, nhưng có một vài thay đổi trong cách chơi và cấu trúc phiếu chơi.\n",
    "Mỗi người chơi nhận một phiếu chơi có dạng hình vuông 3x3, với mỗi ô tại hàng i từ trên xuống và cột j từ trái sang phải chứa số Ai,j. Những con số này nằm trong khoảng từ 1 đến 100 và không có hai ô nào trong phiếu có số giống nhau.\n",
    "Sau đó, người dẫn quản trò sẽ lấy ngẫu nhiên trong một hộp kín ra lần lượt các N phiếu có chứa số \n",
    "b1,b2,…,bN. Nếu phiếu lô tô chứa một số trong những số được lấy lên từ hộp, người chơi sẽ đánh dấu chúng trên phiếu của mình. Người chơi đầu tiên có một hàng, cột hoặc đường chéo của ba số đã đánh dấu trên phiếu sẽ là người chiến thắng và nhận được một phần quà rất giá trị.  \n",
    "Nhiệm vụ của bạn là giúp An xác định rằng cậu ấy có thể nhận được phần quà từ trò chơi này sau N lần lấy phiếu hay không?\n",
    "##### Input:\n",
    "Trong 3 dòng đầu tiên, dòng chứ i chứa ba số nguyên Ai,1;Ai,2;Ai,3.\n",
    "Dòng thứ 4 chứa số nguyên N (1≤N≤10) là số lấy phiếu trong hộp kín.\n",
    "N dòng tiếp theo mỗi dòng là một số nguyên bi là số trên phiếu ở lần lấy thứ i.\n",
    "##### Output:\n",
    "Nếu An đạt được giải thưởng thì in ra ‘Yes’, ngược lại in ra ‘No’."
   ]
  },
  {
   "cell_type": "code",
   "execution_count": 26,
   "id": "94447574",
   "metadata": {},
   "outputs": [
    {
     "name": "stdout",
     "output_type": "stream",
     "text": [
      "1 2 9\n",
      "6 8 3\n",
      "11 15 48\n",
      "3\n",
      "9\n",
      "8\n",
      "11\n",
      "Yes\n"
     ]
    }
   ],
   "source": [
    "def check_bingo(ticket):\n",
    "    # Check rows and columns\n",
    "    for i in range(3):\n",
    "        if all(ticket[i][j] == 1 for j in range(3)) or all(ticket[j][i] == 1 for j in range(3)):\n",
    "            return True\n",
    "    # Check the diagonal\n",
    "    if all(ticket[i][i] == 1 for i in range(3)) or all(ticket[i][2 - i] == 1 for i in range(3)):\n",
    "        return True\n",
    "    return False\n",
    "\n",
    "# Input the loto ticket\n",
    "ticket = []\n",
    "for _ in range(3):\n",
    "    row = list(map(int, input().split()))\n",
    "    ticket.append(row)\n",
    "\n",
    "# Input the set of bingo numbers\n",
    "N = int(input())\n",
    "bingo_numbers = set()\n",
    "for _ in range(N):\n",
    "    number = int(input())\n",
    "    bingo_numbers.add(number)\n",
    "\n",
    "# Check the conditions and print result\n",
    "for number in bingo_numbers:\n",
    "    for i in range(3):\n",
    "        for j in range(3):\n",
    "            if ticket[i][j] == number:\n",
    "                ticket[i][j] = 1\n",
    "\n",
    "    if check_bingo(ticket):\n",
    "        print(\"Yes\")\n",
    "        break\n",
    "else:\n",
    "    print(\"No\")"
   ]
  },
  {
   "cell_type": "markdown",
   "id": "7dd97858",
   "metadata": {},
   "source": [
    "## Bài: Tablet\n",
    "Bạn Bình đi mua tablet. Bình là người rất cầu toàn, Bình muốn cả chiều dài, chiều  rộng của tablet phải là số nguyên. Giả sử Bình muốn kích thước của tablet cũng phải là một số nguyên n thì có bao nhiêu lựa chọn kích thước màn hình tablet Bình có thể cân nhắc?\n",
    "#### INPUT\n",
    "Một số nguyên dương n\n",
    "#### OUTPUT\n",
    "Số lượng lựa chọn có thể có của Bình"
   ]
  },
  {
   "cell_type": "code",
   "execution_count": 4,
   "id": "831bd510",
   "metadata": {},
   "outputs": [
    {
     "name": "stdout",
     "output_type": "stream",
     "text": [
      "325\n",
      "7\n",
      "Wall time: 2.33 s\n"
     ]
    }
   ],
   "source": [
    "def number_of_options(n):\n",
    "    count = 0\n",
    "    n2 = n**2\n",
    "    min_length = int(n/2**0.5)\n",
    "    for l in range(min_length, n):\n",
    "        w_squared = n2 - l**2  # calculate the squared width\n",
    "        w = w_squared ** 0.5  # calculate the width\n",
    "        if w.is_integer():  # Check if the width is integer\n",
    "            count += 1\n",
    "    return count \n",
    "\n",
    "n = int(input())\n",
    "print(number_of_options(n))"
   ]
  },
  {
   "cell_type": "markdown",
   "id": "bd9fe035",
   "metadata": {},
   "source": [
    "## Bài trạm ga\n",
    "Trong một quốc gia nhỏ có tên là XYZ, có bốn thành phố lớn. Những thành phố này được bố trí trên bản đồ theo cấu trúc một lưới 2x2, mỗi thành phố nằm ở một ô riêng. Thông qua hệ thống đường sắt, mỗi thành phố có thể kết nối với nhau. Mỗi thành phố, nếu được xây dựng trạm ga sẽ được đánh dấu trên bản đồ là ký tự \"#\", còn thành phố không có trạm ga thì sẽ được đánh dấu là ký tự là  \".\".  \n",
    "Quốc gia nhỏ XYZ có tài chính còn eo hẹp nên chỉ xây dựng các tuyến đường sắt giữa hai thành phố có trạm ga và hai thành phố này phải kề nhau (chung cạnh trên bản đồ) . Hai thành phố có trạm ga nhưng không kề nhau thì có thể di chuyển qua lại bằng cách di chuyển thông qua những thành phố trung gian khác.   \n",
    "Chính phủ XYZ đã xây dựng một số trạm ga ở trong một số thành phố (có ít nhất 2 thành phố có trạm ga), nhưng không biết là hai thành phố có trạm ga khác nhau có thể di chuyển qua lại với nhau được hay không.  \n",
    "Bạn hãy viết chương trình để kiểm tra thử xem là các thành phố có trạm ga có thể di chuyển qua lại được không nhé!\n",
    "#### Input: \n",
    "Dòng thứ nhất, gồm 2 ký tự biểu diễn có trạm ga hay không ở hai thành phố góc trên bên trái và góc trên bên phải.\n",
    "Dòng thứ hai, gồm 2 ký tự biểu diễn có trạm ga hay không ở hai thành phố góc dưới bên trái và góc dưới bên phải. \n",
    "#### Output:\n",
    "In ra “Yes” nếu các thành phố có trạm ga có thể di chuyển qa lại được. Ngược lại, in ra “No”."
   ]
  },
  {
   "cell_type": "code",
   "execution_count": 68,
   "id": "dd5c16c7",
   "metadata": {},
   "outputs": [
    {
     "name": "stdout",
     "output_type": "stream",
     "text": [
      "##\n",
      "..\n",
      "Yes\n"
     ]
    }
   ],
   "source": [
    "def is_connected(city_map):\n",
    "    # Kiểm tra các thành phố có trạm ga, lưu tọa độ của các thành phố đó\n",
    "    stations = []\n",
    "    for i in range(2):\n",
    "        for j in range(2):\n",
    "            if city_map[i][j] == '#':\n",
    "                stations.append((i, j))\n",
    "    \n",
    "    # Nếu không có ít nhất 2 trạm ga, trả về False\n",
    "    if len(stations) < 2:\n",
    "        return False\n",
    "    \n",
    "    # Kiểm tra thành phố có kề nhau không\n",
    "    for station1 in stations:\n",
    "        for station2 in stations:\n",
    "            # Nếu có cặp trạm ga kề nhau theo chiều ngang hoặc dọc\n",
    "            if abs(station1[0] - station2[0]) + abs(station1[1] - station2[1]) == 1:\n",
    "                return True\n",
    "    return False\n",
    "\n",
    "city_map = []\n",
    "for i in range(2):\n",
    "    city_map.append(input())\n",
    "\n",
    "if is_connected(city_map):\n",
    "    print(\"Yes\")\n",
    "else:\n",
    "    print(\"No\")"
   ]
  },
  {
   "cell_type": "markdown",
   "id": "f8d95ca3",
   "metadata": {},
   "source": [
    "## Bài: Tìm hình vuông khi biết 2 đỉnh\n",
    "Cho hai điểm A, B trong hệ tọa độ Đề-các. Hỏi có những hình vuông nào nhận AB là một cạnh của mình?\n",
    "#### INPUT\n",
    "Hàng đầu là tọa độ của điểm A, cách nhau bởi khoảng trắng\n",
    "Hàng cuôi cùng là tọa độ của điểm B\n",
    "#### OUTPUT\n",
    "Xuất tọa độ các hình vuông. Mỗi hình trên một hàng, tọa độ các đỉnh trong hình vuông được xuất theo chiều kim đồng hồ với điểm A dược xuất đầu tiên."
   ]
  },
  {
   "cell_type": "code",
   "execution_count": 10,
   "id": "85edceed",
   "metadata": {},
   "outputs": [
    {
     "name": "stdout",
     "output_type": "stream",
     "text": [
      "2 4\n",
      "3 4\n",
      "(2, 4) (2, 5) (3, 5) (3, 4)\n",
      "(2, 4) (3, 4) (3, 3) (2, 3)\n"
     ]
    }
   ],
   "source": [
    "def find_coo(A,B):\n",
    "    # Tìm tọa độ còn lại của hình vuông (công thức được tham khảo trên chatgpt)\n",
    "    # url chatgpt: https://chat.openai.com/share/19cbef21-4c2f-4104-a7cc-8805b5e23488\n",
    "    # Điểm còn lại (x3, y3) sẽ là điểm (x2 - (y2 - y1), y2 + (x2 - x1))\n",
    "    # và điểm (x4, y4) sẽ là điểm (x1 - (y2 - y1), y1 + (x2 - x1))\n",
    "    x1, y1 = A\n",
    "    x2, y2 = B\n",
    "    x3 = x2 - (y2 - y1)\n",
    "    y3 = y2 + (x2 - x1)\n",
    "    x4 = x1 - (y2 - y1)\n",
    "    y4 = y1 + (x2 - x1)\n",
    "    return (x3, y3), (x4, y4)\n",
    "\n",
    "def find_all(A,B):\n",
    "    possible_squares = []\n",
    "    C,D = find_coo(A,B)\n",
    "    possible_squares.append([A,D,C,B])\n",
    "    D,C = find_coo(B,A)\n",
    "    possible_squares.append([A,B,C,D])\n",
    "    return possible_squares\n",
    "\n",
    "# Nhập tọa độ của hai điểm\n",
    "A = tuple(map(int, input().split()))\n",
    "B = tuple(map(int, input().split()))\n",
    "\n",
    "# Tìm tất cả các trường hợp có thể có\n",
    "results = find_all(A,B)\n",
    "for i in results:\n",
    "    print(i[0],i[1],i[2],i[3])"
   ]
  },
  {
   "cell_type": "markdown",
   "id": "31f02686",
   "metadata": {},
   "source": [
    "## Bài: Tô màu\n",
    "Bạn Bình mua được một tờ giấy kẻ ô được tô màu trắng đen lẫn lộn. Nhìn tờ giấy tô màu không có quy tắc gì cả, Bình bỗng nghĩ ra một câu hỏi thú vị. Giả sử chúng ta chọn một vài hàng và một vài cột nào đó (có thể không chọn cũng được), sau đó tô lại tất cả các ô trong những hàng và cột được chọn thành màu đỏ thì có cách nào để số ô màu đen còn lại sẽ đúng bằng số tuổi của Bình hay không?  \n",
    "Hãy viết chương trình giúp Bình đếm xem có bao nhiêu cách chọn hàng và cột thỏa mãn yêu cầu.\n",
    "#### INPUT\n",
    "Dòng đầu tin chứa 03 số nguyên H, W, K, lần lượt là số hàng, số cột và số tuổi của Bình.  \n",
    "H dòng tiếp theo sẽ có đúng W ký tự viết liền với nhau. Ký tự dấu chấm (\".\") đại diện cho ô màu trắng, và ký tự dấu hashtag (\"#\") đại diện cho ô màu đen.  \n",
    "Cho biết H và W sẽ không vượt quá 6 và Bình thì không quá H*W tuổi\n",
    "#### OUTPUT\n",
    "Số cách lựa chọn thỏa mãn yêu cầu"
   ]
  },
  {
   "cell_type": "code",
   "execution_count": 6,
   "id": "8b1726df-9d14-4631-b3cc-f52475586517",
   "metadata": {},
   "outputs": [
    {
     "name": "stdin",
     "output_type": "stream",
     "text": [
      " 2 3 2\n",
      " ..#\n",
      " ###\n"
     ]
    },
    {
     "name": "stdout",
     "output_type": "stream",
     "text": [
      "5\n"
     ]
    }
   ],
   "source": [
    "def count_black(grid, H, W, row_mark, col_mark):\n",
    "    black =0\n",
    "    for i in range(H):\n",
    "        for j in range(W):\n",
    "            if ((row_mark >> i) & 1)==0 and ((col_mark >> j) & 1)==0 and grid[i][j] == '#':\n",
    "                black += 1\n",
    "    return black\n",
    "\n",
    "def count_ways(H, W, K, grid):\n",
    "    ways = 0\n",
    "    hash_count = sum(row.count(\"#\") for row in grid)\n",
    "\n",
    "    #Check the number of \"#\" and K \n",
    "    if hash_count == K:\n",
    "        return 1\n",
    "    else:\n",
    "        for row_mark in range(2**H):\n",
    "            for col_mark in range(2**W):\n",
    "                if count_black(grid, H, W, row_mark, col_mark) == K:\n",
    "                    ways += 1\n",
    "        return ways\n",
    "\n",
    "H, W, K = map(int, input().split())\n",
    "grid = [input() for _ in range(H)]\n",
    "\n",
    "# Tính và in ra kết quả\n",
    "print(count_ways(H, W, K, grid))"
   ]
  },
  {
   "cell_type": "markdown",
   "id": "7013783b",
   "metadata": {},
   "source": [
    "## Bài cặp khóa mã hóa\n",
    "An đang làm việc trong một công ty lớn và có trách nhiệm bảo mật dữ liệu quan trọng của công ty. Để đảm bảo an toàn cho dữ liệu cho công ty, An đã tham gia nhóm phát triển hệ thống mã hóa bất đối xứng với việc tạo cặp khóa mã hóa dựa trên những số “đặc biệt” mà nhóm của An mới tìm ra. Số “đặc biệt\" là một số nguyên dương không thể chia hết cho bình phương của bất kỳ số nguyên nào lớn hơn 1. Sự phức tạp của những số “đặc biệt” này rất thích hợp cho việc tạo ra những khóa mã hóa mạnh.  \n",
    "Bây giờ, nhóm của An muốn biết có bao nhiêu cặp khóa mã hóa mạnh với mỗi khóa nằm trong khoảng số nguyên nhất định từ L đến R. Một cặp khóa mã hóa (x, y) được xem là mạnh nếu cả khóa x, khóa y và giá trị x*y đều là những số “đặc biệt”, thêm vào đó thì x phải luôn nhỏ hơn y. An chịu trách nhiệm chính cho việc viết chương trình để tính số cặp khóa mạnh này nhưng khổ nỗi là cậu ấy đã quên gần hết việc lập trình. Bạn hãy giúp An viết chương trình này nhé!\n",
    "#### Input:\n",
    "Một dòng chứa hai số nguyên dương L và R (1≤L<R≤109,R−L≤1000) là 2 giới hạn của khoảng giá trị của các khóa mã hóa.\n",
    "#### Ouput:\n",
    "Số cặp khóa mã hóa mạnh mà nhóm An muốn biết."
   ]
  },
  {
   "cell_type": "code",
   "execution_count": 57,
   "id": "e34302ef",
   "metadata": {},
   "outputs": [
    {
     "name": "stdout",
     "output_type": "stream",
     "text": [
      "3 9\n",
      "5\n"
     ]
    }
   ],
   "source": [
    "def is_special(n):\n",
    "    if n <= 1:\n",
    "        return False\n",
    "    for i in range(2, int(n ** 0.5) + 1):\n",
    "        if n % (i ** 2) == 0:\n",
    "            return False\n",
    "    return True\n",
    "\n",
    "def find_special_numbers(L, R):\n",
    "    special_numbers = []\n",
    "    for num in range(L, R + 1):\n",
    "        if is_special(num):\n",
    "            special_numbers.append(num)\n",
    "    return special_numbers\n",
    "\n",
    "def find_strong_pairs(L, R):\n",
    "    special_numbers = find_special_numbers(L, R)\n",
    "    strong_pairs = []\n",
    "    for i in range(len(special_numbers)):\n",
    "        for j in range(i + 1, len(special_numbers)):\n",
    "            x = special_numbers[i]\n",
    "            y = special_numbers[j]\n",
    "            if L<=x<y<=R and is_special(x * y):\n",
    "                strong_pairs.append((x, y))\n",
    "    return len(strong_pairs)\n",
    "\n",
    "L, R = map(int, input().split())\n",
    "if L<1 or R>(10**9) or (R-L>1000):\n",
    "    print(0)\n",
    "else:\n",
    "    strong_pairs = find_strong_pairs(L, R)\n",
    "    print(strong_pairs)\n"
   ]
  },
  {
   "cell_type": "code",
   "execution_count": 2,
   "id": "8bcb0950",
   "metadata": {},
   "outputs": [
    {
     "name": "stdin",
     "output_type": "stream",
     "text": [
      " 3 9\n"
     ]
    },
    {
     "name": "stdout",
     "output_type": "stream",
     "text": [
      "5\n"
     ]
    }
   ],
   "source": [
    "#bài tham khảo\n",
    "# from itertools import combinations\n",
    "\n",
    "# def kiem_tra_so_khong_chia_het_boi_binh_phuong(n):\n",
    "#     for i in range(2, int(n ** 0.5) + 1):\n",
    "#         if n % (i ** 2) == 0:\n",
    "#             return False\n",
    "#     return True\n",
    "\n",
    "# def tao_mang_ket_qua(arr):\n",
    "#     return [pair[0] * pair[1] for pair in combinations(arr, 2)]\n",
    "\n",
    "# def tim_so_khong_chia_het_boi_binh_phuong_trong_khoang(L, R):\n",
    "#      return [n for n in range(L, R + 1) if kiem_tra_so_khong_chia_het_boi_binh_phuong(n)]\n",
    "\n",
    "# def loc_mang_theo_dieu_kien(arr):\n",
    "#     return [x for x in arr if kiem_tra_so_khong_chia_het_boi_binh_phuong(x)]\n",
    "\n",
    "# a, b = map(int, input().split())\n",
    "# result_array = tim_so_khong_chia_het_boi_binh_phuong_trong_khoang(a, b)\n",
    "\n",
    "# final_result = tao_mang_ket_qua(result_array)\n",
    "# filtered_result = loc_mang_theo_dieu_kien(final_result)\n",
    "# print(len(filtered_result))"
   ]
  },
  {
   "cell_type": "markdown",
   "id": "add9cdf1",
   "metadata": {},
   "source": [
    "## Bài is admissible overpay\n",
    "Để tiện lợi cho khách thì khi đặt mua online website sẽ thông báo là với mỗi món hàng khách đã tiết kiêm được bao nhiêu khi mua online hay sẽ tiết kiệm được bao nhiêu khi mua tại cửa hàng.  \n",
    "Bình vốn suy nghĩ đơn giản nên Bình chỉ muốn mua bằng một hình thức duy nhất, online thì online luôn, còn không thì ra cửa hàng mua hết mọi thứ, không lằng nhằng từng món mất công.  \n",
    "Hãy cho biết với danh sách các mặt hảng Bình đã lựa và số tiền Bình có thì có mua được không nhé các bạn.\n",
    "#### INPUT:\n",
    "Dòng đầu tiên gồm n số nguyên, là giá các món hàng Bình đã lựa, cách nhau bởi khoảng trắng.  \n",
    "n  dòng tiếp theo mỗi dòng tương ứng với một thông báo trên website bán hàng về một món hàng, theo thứ tự đã cho trên dòng đầu tiên. Các thông báo này nếu có cụm từ \"xxx% higher than in-store\" trong đó xxx là một số thập phân bất kỳ thì nghĩa là có thể tiết kiệm thêm xxx% giá trị món hàng nếu mua tại cửa hàng. Và nếu có cụm từ \"xxx% lower than in-store\" thì nghĩa là đã tiết kiệm được xxx% giá trị món hàng nhờ vào việc mua trực tuyến.  \n",
    "Dòng cuối cùng là số tiền Bình có.\n",
    "#### OUTPUT\n",
    "Nếu Bình mua được hết đống hàng thì xuất ra là true, ngược lại xuất ra false"
   ]
  },
  {
   "cell_type": "code",
   "execution_count": 17,
   "id": "fbb3742c",
   "metadata": {},
   "outputs": [
    {
     "name": "stdout",
     "output_type": "stream",
     "text": [
      "501700 989900 254900\n",
      "Contratulation that was 2.4% lower than in-store\n",
      "Should reconsider this item is 20.0% higher than in-store\n",
      "Nice, 22,7% lower than in-store\n",
      "2000000\n",
      "2.4\n",
      "20.0\n",
      "22.7\n",
      "true\n"
     ]
    }
   ],
   "source": [
    "def get_percentage(strg):\n",
    "    words = strg.split()\n",
    "    for word in words:\n",
    "        if \"%\" in word:\n",
    "            i = word.find('%')\n",
    "            sstr = word[:i]\n",
    "            return float(sstr.replace(',', '.'))\n",
    "    return None\n",
    "\n",
    "#calculate price in-store\n",
    "def price_adjustment(price, message):\n",
    "    percentage = get_percentage(message)\n",
    "#     print(percentage)\n",
    "    if percentage is not None:\n",
    "        if \"higher\" in message:\n",
    "            price *= (100 - percentage) / 100\n",
    "        elif \"lower\" in message:\n",
    "            price *= (100 + percentage) / 100\n",
    "    return price\n",
    "\n",
    "def can_buy_or_not(prices, messages, money):\n",
    "    prices_instore = [price_adjustment(price, message) for price, message in zip(prices, messages)]\n",
    "    instore_total= 0\n",
    "    online_total = 0\n",
    "    for price_i in prices_instore:\n",
    "        instore_total += price_i\n",
    "    for price_o in prices:\n",
    "        online_total += price_o\n",
    "    if money-instore_total>=0 or money-online_total>=0:\n",
    "        return \"true\"\n",
    "    else:\n",
    "        return \"false\"\n",
    "\n",
    "\n",
    "prices = list(map(int, input().split()))\n",
    "messages = [input() for _ in range(len(prices))]\n",
    "money = int(input())\n",
    "\n",
    "result = can_buy_or_not(prices, messages, money)\n",
    "print(result)"
   ]
  }
 ],
 "metadata": {
  "kernelspec": {
   "display_name": "Python 3 (ipykernel)",
   "language": "python",
   "name": "python3"
  },
  "language_info": {
   "codemirror_mode": {
    "name": "ipython",
    "version": 3
   },
   "file_extension": ".py",
   "mimetype": "text/x-python",
   "name": "python",
   "nbconvert_exporter": "python",
   "pygments_lexer": "ipython3",
   "version": "3.11.6"
  }
 },
 "nbformat": 4,
 "nbformat_minor": 5
}
