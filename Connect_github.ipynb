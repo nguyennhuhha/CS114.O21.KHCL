{
  "nbformat": 4,
  "nbformat_minor": 0,
  "metadata": {
    "colab": {
      "provenance": [],
      "authorship_tag": "ABX9TyMTCxT17Gm1P2Q7hMS6FSvw",
      "include_colab_link": true
    },
    "kernelspec": {
      "name": "python3",
      "display_name": "Python 3"
    },
    "language_info": {
      "name": "python"
    }
  },
  "cells": [
    {
      "cell_type": "markdown",
      "metadata": {
        "id": "view-in-github",
        "colab_type": "text"
      },
      "source": [
        "<a href=\"https://colab.research.google.com/github/nguyennhuhha/CS114.O21.KHCL/blob/main/Connect_github.ipynb\" target=\"_parent\"><img src=\"https://colab.research.google.com/assets/colab-badge.svg\" alt=\"Open In Colab\"/></a>"
      ]
    },
    {
      "cell_type": "markdown",
      "source": [
        "#Thông tin học viên:\n",
        "MSSV: 21522028  \n",
        "Họ và tên: Nguyễn Như Hà  \n",
        "Ngày thực hiện: 29/2/2024"
      ],
      "metadata": {
        "id": "fQz2SC3cy1GM"
      }
    },
    {
      "cell_type": "code",
      "execution_count": null,
      "metadata": {
        "id": "TB9g3BPlywh3"
      },
      "outputs": [],
      "source": []
    }
  ]
}